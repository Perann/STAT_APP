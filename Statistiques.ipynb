{
 "cells": [
  {
   "cell_type": "markdown",
   "metadata": {},
   "source": [
    "#             I. Stat générales sur les séries"
   ]
  },
  {
   "cell_type": "code",
   "execution_count": 14,
   "metadata": {},
   "outputs": [],
   "source": [
    "import numpy as np\n",
    "import pandas as pd\n",
    "import matplotlib.pyplot as plt\n",
    "from statsmodels.tsa.stattools import adfuller, kpss\n",
    "from statsmodels.graphics.tsaplots import plot_acf,plot_pacf\n",
    "import warnings\n",
    "import seaborn as sns"
   ]
  },
  {
   "cell_type": "code",
   "execution_count": 2,
   "metadata": {},
   "outputs": [],
   "source": [
    "alternative_data_raw = pd.read_excel('EnsaeAlternativeTimeSeries.xlsx', sheet_name='Alternative Asset', index_col=0)"
   ]
  },
  {
   "cell_type": "code",
   "execution_count": 3,
   "metadata": {},
   "outputs": [
    {
     "name": "stderr",
     "output_type": "stream",
     "text": [
      "/tmp/ipykernel_302167/1179806071.py:3: UserWarning: Could not infer format, so each element will be parsed individually, falling back to `dateutil`. To ensure parsing is consistent and as-expected, please specify a format.\n",
      "  .set_index(pd.to_datetime(df_.index))\n"
     ]
    }
   ],
   "source": [
    "def tweak_alternative_data(df_):\n",
    "    return (df_.assign(**{col + '_%': df_[col].pct_change(fill_method = None) for col in df_.columns}) #Adding the returs\n",
    "            .set_index(pd.to_datetime(df_.index))\n",
    "            .resample('QE')\n",
    "            .last() #Changing the index format to datetime\n",
    "            .rename(lambda c: c.replace(' ','_'), axis = 1)\n",
    "            .drop(columns = ['Infrastructure_Equity_Listed_-_USD_Unhedged_%','Infrastructure_Equity_Listed_-_USD_Unhedged'])) # Replacing the spaces by _ in the names\n",
    "\n",
    "\n",
    "alternative_data = tweak_alternative_data(alternative_data_raw)\n",
    "alternative_return = alternative_data.iloc[:,8:]"
   ]
  },
  {
   "cell_type": "code",
   "execution_count": 4,
   "metadata": {},
   "outputs": [
    {
     "data": {
      "text/html": [
       "<div>\n",
       "<style scoped>\n",
       "    .dataframe tbody tr th:only-of-type {\n",
       "        vertical-align: middle;\n",
       "    }\n",
       "\n",
       "    .dataframe tbody tr th {\n",
       "        vertical-align: top;\n",
       "    }\n",
       "\n",
       "    .dataframe thead th {\n",
       "        text-align: right;\n",
       "    }\n",
       "</style>\n",
       "<table border=\"1\" class=\"dataframe\">\n",
       "  <thead>\n",
       "    <tr style=\"text-align: right;\">\n",
       "      <th></th>\n",
       "      <th>Commodity_-_USD_Unhedged_%</th>\n",
       "      <th>Global_Property_USD_Unhedged_%</th>\n",
       "      <th>Hedge_Fund_DJ_-_USD_Unhedged_%</th>\n",
       "      <th>Infrastructure_Debt_-_USD_Unhedged_%</th>\n",
       "      <th>Infrastructure_Equity_USD_Unhedged_%</th>\n",
       "      <th>Nature_Capital_-_USD_Hedged_%</th>\n",
       "      <th>Private_Equity_USD_Unhedged_%</th>\n",
       "      <th>UK_Property_Direct_-_USD_Unhedged_%</th>\n",
       "    </tr>\n",
       "    <tr>\n",
       "      <th>QUARTER</th>\n",
       "      <th></th>\n",
       "      <th></th>\n",
       "      <th></th>\n",
       "      <th></th>\n",
       "      <th></th>\n",
       "      <th></th>\n",
       "      <th></th>\n",
       "      <th></th>\n",
       "    </tr>\n",
       "  </thead>\n",
       "  <tbody>\n",
       "    <tr>\n",
       "      <th>1993-12-31</th>\n",
       "      <td>NaN</td>\n",
       "      <td>NaN</td>\n",
       "      <td>NaN</td>\n",
       "      <td>NaN</td>\n",
       "      <td>NaN</td>\n",
       "      <td>NaN</td>\n",
       "      <td>NaN</td>\n",
       "      <td>NaN</td>\n",
       "    </tr>\n",
       "    <tr>\n",
       "      <th>1994-03-31</th>\n",
       "      <td>NaN</td>\n",
       "      <td>NaN</td>\n",
       "      <td>NaN</td>\n",
       "      <td>NaN</td>\n",
       "      <td>NaN</td>\n",
       "      <td>NaN</td>\n",
       "      <td>0.101506</td>\n",
       "      <td>NaN</td>\n",
       "    </tr>\n",
       "    <tr>\n",
       "      <th>1994-06-30</th>\n",
       "      <td>NaN</td>\n",
       "      <td>NaN</td>\n",
       "      <td>NaN</td>\n",
       "      <td>NaN</td>\n",
       "      <td>NaN</td>\n",
       "      <td>NaN</td>\n",
       "      <td>0.029835</td>\n",
       "      <td>NaN</td>\n",
       "    </tr>\n",
       "    <tr>\n",
       "      <th>1994-09-30</th>\n",
       "      <td>NaN</td>\n",
       "      <td>NaN</td>\n",
       "      <td>NaN</td>\n",
       "      <td>NaN</td>\n",
       "      <td>NaN</td>\n",
       "      <td>NaN</td>\n",
       "      <td>0.036681</td>\n",
       "      <td>NaN</td>\n",
       "    </tr>\n",
       "    <tr>\n",
       "      <th>1994-12-31</th>\n",
       "      <td>NaN</td>\n",
       "      <td>NaN</td>\n",
       "      <td>NaN</td>\n",
       "      <td>NaN</td>\n",
       "      <td>NaN</td>\n",
       "      <td>NaN</td>\n",
       "      <td>0.001613</td>\n",
       "      <td>NaN</td>\n",
       "    </tr>\n",
       "  </tbody>\n",
       "</table>\n",
       "</div>"
      ],
      "text/plain": [
       "            Commodity_-_USD_Unhedged_%  Global_Property_USD_Unhedged_%  \\\n",
       "QUARTER                                                                  \n",
       "1993-12-31                         NaN                             NaN   \n",
       "1994-03-31                         NaN                             NaN   \n",
       "1994-06-30                         NaN                             NaN   \n",
       "1994-09-30                         NaN                             NaN   \n",
       "1994-12-31                         NaN                             NaN   \n",
       "\n",
       "            Hedge_Fund_DJ_-_USD_Unhedged_%  \\\n",
       "QUARTER                                      \n",
       "1993-12-31                             NaN   \n",
       "1994-03-31                             NaN   \n",
       "1994-06-30                             NaN   \n",
       "1994-09-30                             NaN   \n",
       "1994-12-31                             NaN   \n",
       "\n",
       "            Infrastructure_Debt_-_USD_Unhedged_%  \\\n",
       "QUARTER                                            \n",
       "1993-12-31                                   NaN   \n",
       "1994-03-31                                   NaN   \n",
       "1994-06-30                                   NaN   \n",
       "1994-09-30                                   NaN   \n",
       "1994-12-31                                   NaN   \n",
       "\n",
       "            Infrastructure_Equity_USD_Unhedged_%  \\\n",
       "QUARTER                                            \n",
       "1993-12-31                                   NaN   \n",
       "1994-03-31                                   NaN   \n",
       "1994-06-30                                   NaN   \n",
       "1994-09-30                                   NaN   \n",
       "1994-12-31                                   NaN   \n",
       "\n",
       "            Nature_Capital_-_USD_Hedged_%  Private_Equity_USD_Unhedged_%  \\\n",
       "QUARTER                                                                    \n",
       "1993-12-31                            NaN                            NaN   \n",
       "1994-03-31                            NaN                       0.101506   \n",
       "1994-06-30                            NaN                       0.029835   \n",
       "1994-09-30                            NaN                       0.036681   \n",
       "1994-12-31                            NaN                       0.001613   \n",
       "\n",
       "            UK_Property_Direct_-_USD_Unhedged_%  \n",
       "QUARTER                                          \n",
       "1993-12-31                                  NaN  \n",
       "1994-03-31                                  NaN  \n",
       "1994-06-30                                  NaN  \n",
       "1994-09-30                                  NaN  \n",
       "1994-12-31                                  NaN  "
      ]
     },
     "execution_count": 4,
     "metadata": {},
     "output_type": "execute_result"
    }
   ],
   "source": [
    "alternative_return.head()"
   ]
  },
  {
   "cell_type": "markdown",
   "metadata": {},
   "source": [
    "## Test de stationarité sur les rendements:"
   ]
  },
  {
   "cell_type": "markdown",
   "metadata": {},
   "source": [
    "Dickey Fuller : "
   ]
  },
  {
   "cell_type": "code",
   "execution_count": 9,
   "metadata": {},
   "outputs": [
    {
     "data": {
      "text/html": [
       "<style type=\"text/css\">\n",
       "#T_af634_row0_col0 {\n",
       "  background-color: #e0422f;\n",
       "  color: #f1f1f1;\n",
       "}\n",
       "#T_af634_row0_col1, #T_af634_row1_col1, #T_af634_row2_col1, #T_af634_row3_col1, #T_af634_row4_col1, #T_af634_row6_col0, #T_af634_row6_col1, #T_af634_row7_col1 {\n",
       "  background-color: #a50026;\n",
       "  color: #f1f1f1;\n",
       "}\n",
       "#T_af634_row1_col0, #T_af634_row7_col0 {\n",
       "  background-color: #f26841;\n",
       "  color: #f1f1f1;\n",
       "}\n",
       "#T_af634_row2_col0 {\n",
       "  background-color: #ce2827;\n",
       "  color: #f1f1f1;\n",
       "}\n",
       "#T_af634_row3_col0 {\n",
       "  background-color: #ddf191;\n",
       "  color: #000000;\n",
       "}\n",
       "#T_af634_row4_col0 {\n",
       "  background-color: #fdc171;\n",
       "  color: #000000;\n",
       "}\n",
       "#T_af634_row5_col0, #T_af634_row5_col1 {\n",
       "  background-color: #006837;\n",
       "  color: #f1f1f1;\n",
       "}\n",
       "</style>\n",
       "<table id=\"T_af634\">\n",
       "  <thead>\n",
       "    <tr>\n",
       "      <th class=\"blank level0\" >&nbsp;</th>\n",
       "      <th id=\"T_af634_level0_col0\" class=\"col_heading level0 col0\" >value</th>\n",
       "      <th id=\"T_af634_level0_col1\" class=\"col_heading level0 col1\" >p-value</th>\n",
       "    </tr>\n",
       "  </thead>\n",
       "  <tbody>\n",
       "    <tr>\n",
       "      <th id=\"T_af634_level0_row0\" class=\"row_heading level0 row0\" >Commodity_-_USD_Unhedged_%</th>\n",
       "      <td id=\"T_af634_row0_col0\" class=\"data row0 col0\" >-8.82</td>\n",
       "      <td id=\"T_af634_row0_col1\" class=\"data row0 col1\" >0.00</td>\n",
       "    </tr>\n",
       "    <tr>\n",
       "      <th id=\"T_af634_level0_row1\" class=\"row_heading level0 row1\" >Global_Property_USD_Unhedged_%</th>\n",
       "      <td id=\"T_af634_row1_col0\" class=\"data row1 col0\" >-8.58</td>\n",
       "      <td id=\"T_af634_row1_col1\" class=\"data row1 col1\" >0.00</td>\n",
       "    </tr>\n",
       "    <tr>\n",
       "      <th id=\"T_af634_level0_row2\" class=\"row_heading level0 row2\" >Hedge_Fund_DJ_-_USD_Unhedged_%</th>\n",
       "      <td id=\"T_af634_row2_col0\" class=\"data row2 col0\" >-8.99</td>\n",
       "      <td id=\"T_af634_row2_col1\" class=\"data row2 col1\" >0.00</td>\n",
       "    </tr>\n",
       "    <tr>\n",
       "      <th id=\"T_af634_level0_row3\" class=\"row_heading level0 row3\" >Infrastructure_Debt_-_USD_Unhedged_%</th>\n",
       "      <td id=\"T_af634_row3_col0\" class=\"data row3 col0\" >-7.14</td>\n",
       "      <td id=\"T_af634_row3_col1\" class=\"data row3 col1\" >0.00</td>\n",
       "    </tr>\n",
       "    <tr>\n",
       "      <th id=\"T_af634_level0_row4\" class=\"row_heading level0 row4\" >Infrastructure_Equity_USD_Unhedged_%</th>\n",
       "      <td id=\"T_af634_row4_col0\" class=\"data row4 col0\" >-8.06</td>\n",
       "      <td id=\"T_af634_row4_col1\" class=\"data row4 col1\" >0.00</td>\n",
       "    </tr>\n",
       "    <tr>\n",
       "      <th id=\"T_af634_level0_row5\" class=\"row_heading level0 row5\" >Nature_Capital_-_USD_Hedged_%</th>\n",
       "      <td id=\"T_af634_row5_col0\" class=\"data row5 col0\" >-5.63</td>\n",
       "      <td id=\"T_af634_row5_col1\" class=\"data row5 col1\" >0.00</td>\n",
       "    </tr>\n",
       "    <tr>\n",
       "      <th id=\"T_af634_level0_row6\" class=\"row_heading level0 row6\" >Private_Equity_USD_Unhedged_%</th>\n",
       "      <td id=\"T_af634_row6_col0\" class=\"data row6 col0\" >-9.30</td>\n",
       "      <td id=\"T_af634_row6_col1\" class=\"data row6 col1\" >0.00</td>\n",
       "    </tr>\n",
       "    <tr>\n",
       "      <th id=\"T_af634_level0_row7\" class=\"row_heading level0 row7\" >UK_Property_Direct_-_USD_Unhedged_%</th>\n",
       "      <td id=\"T_af634_row7_col0\" class=\"data row7 col0\" >-8.59</td>\n",
       "      <td id=\"T_af634_row7_col1\" class=\"data row7 col1\" >0.00</td>\n",
       "    </tr>\n",
       "  </tbody>\n",
       "</table>\n"
      ],
      "text/plain": [
       "<pandas.io.formats.style.Styler at 0x77b8362344d0>"
      ]
     },
     "execution_count": 9,
     "metadata": {},
     "output_type": "execute_result"
    }
   ],
   "source": [
    "unit_test = {name: (adfuller(alternative_return[name].dropna())[0], adfuller(alternative_return[name].dropna())[1]) \n",
    "       for name in alternative_return.columns}\n",
    "\n",
    "(pd.DataFrame(unit_test, index = ['value','p-value']).T.style.format(precision = 2)\n",
    ".background_gradient(cmap = 'RdYlGn'))"
   ]
  },
  {
   "cell_type": "markdown",
   "metadata": {},
   "source": [
    "Test KPSS :"
   ]
  },
  {
   "cell_type": "code",
   "execution_count": 12,
   "metadata": {},
   "outputs": [
    {
     "name": "stderr",
     "output_type": "stream",
     "text": [
      "/tmp/ipykernel_302167/3619417823.py:1: InterpolationWarning: The test statistic is outside of the range of p-values available in the\n",
      "look-up table. The actual p-value is greater than the p-value returned.\n",
      "\n",
      "  unit_test = {name: (kpss(alternative_data[name].dropna())[0], kpss(alternative_data[name].dropna())[1])\n",
      "/tmp/ipykernel_302167/3619417823.py:1: InterpolationWarning: The test statistic is outside of the range of p-values available in the\n",
      "look-up table. The actual p-value is greater than the p-value returned.\n",
      "\n",
      "  unit_test = {name: (kpss(alternative_data[name].dropna())[0], kpss(alternative_data[name].dropna())[1])\n",
      "/tmp/ipykernel_302167/3619417823.py:1: InterpolationWarning: The test statistic is outside of the range of p-values available in the\n",
      "look-up table. The actual p-value is greater than the p-value returned.\n",
      "\n",
      "  unit_test = {name: (kpss(alternative_data[name].dropna())[0], kpss(alternative_data[name].dropna())[1])\n",
      "/tmp/ipykernel_302167/3619417823.py:1: InterpolationWarning: The test statistic is outside of the range of p-values available in the\n",
      "look-up table. The actual p-value is greater than the p-value returned.\n",
      "\n",
      "  unit_test = {name: (kpss(alternative_data[name].dropna())[0], kpss(alternative_data[name].dropna())[1])\n",
      "/tmp/ipykernel_302167/3619417823.py:1: InterpolationWarning: The test statistic is outside of the range of p-values available in the\n",
      "look-up table. The actual p-value is greater than the p-value returned.\n",
      "\n",
      "  unit_test = {name: (kpss(alternative_data[name].dropna())[0], kpss(alternative_data[name].dropna())[1])\n",
      "/tmp/ipykernel_302167/3619417823.py:1: InterpolationWarning: The test statistic is outside of the range of p-values available in the\n",
      "look-up table. The actual p-value is greater than the p-value returned.\n",
      "\n",
      "  unit_test = {name: (kpss(alternative_data[name].dropna())[0], kpss(alternative_data[name].dropna())[1])\n",
      "/tmp/ipykernel_302167/3619417823.py:1: InterpolationWarning: The test statistic is outside of the range of p-values available in the\n",
      "look-up table. The actual p-value is greater than the p-value returned.\n",
      "\n",
      "  unit_test = {name: (kpss(alternative_data[name].dropna())[0], kpss(alternative_data[name].dropna())[1])\n",
      "/tmp/ipykernel_302167/3619417823.py:1: InterpolationWarning: The test statistic is outside of the range of p-values available in the\n",
      "look-up table. The actual p-value is greater than the p-value returned.\n",
      "\n",
      "  unit_test = {name: (kpss(alternative_data[name].dropna())[0], kpss(alternative_data[name].dropna())[1])\n"
     ]
    },
    {
     "data": {
      "text/html": [
       "<style type=\"text/css\">\n",
       "#T_ec5d6_row0_col0 {\n",
       "  background-color: #f26841;\n",
       "  color: #f1f1f1;\n",
       "}\n",
       "#T_ec5d6_row0_col1, #T_ec5d6_row2_col1, #T_ec5d6_row3_col0, #T_ec5d6_row4_col1, #T_ec5d6_row5_col1 {\n",
       "  background-color: #006837;\n",
       "  color: #f1f1f1;\n",
       "}\n",
       "#T_ec5d6_row1_col0 {\n",
       "  background-color: #199750;\n",
       "  color: #f1f1f1;\n",
       "}\n",
       "#T_ec5d6_row1_col1 {\n",
       "  background-color: #fffebe;\n",
       "  color: #000000;\n",
       "}\n",
       "#T_ec5d6_row2_col0 {\n",
       "  background-color: #db382b;\n",
       "  color: #f1f1f1;\n",
       "}\n",
       "#T_ec5d6_row3_col1, #T_ec5d6_row4_col0 {\n",
       "  background-color: #a50026;\n",
       "  color: #f1f1f1;\n",
       "}\n",
       "#T_ec5d6_row5_col0 {\n",
       "  background-color: #da362a;\n",
       "  color: #f1f1f1;\n",
       "}\n",
       "</style>\n",
       "<table id=\"T_ec5d6\">\n",
       "  <thead>\n",
       "    <tr>\n",
       "      <th class=\"blank level0\" >&nbsp;</th>\n",
       "      <th id=\"T_ec5d6_level0_col0\" class=\"col_heading level0 col0\" >value</th>\n",
       "      <th id=\"T_ec5d6_level0_col1\" class=\"col_heading level0 col1\" >p-value</th>\n",
       "    </tr>\n",
       "  </thead>\n",
       "  <tbody>\n",
       "    <tr>\n",
       "      <th id=\"T_ec5d6_level0_row0\" class=\"row_heading level0 row0\" >Hedge_Fund_DJ_-_USD_Unhedged_%</th>\n",
       "      <td id=\"T_ec5d6_row0_col0\" class=\"data row0 col0\" >0.11</td>\n",
       "      <td id=\"T_ec5d6_row0_col1\" class=\"data row0 col1\" >0.10</td>\n",
       "    </tr>\n",
       "    <tr>\n",
       "      <th id=\"T_ec5d6_level0_row1\" class=\"row_heading level0 row1\" >Infrastructure_Debt_-_USD_Unhedged_%</th>\n",
       "      <td id=\"T_ec5d6_row1_col0\" class=\"data row1 col0\" >0.39</td>\n",
       "      <td id=\"T_ec5d6_row1_col1\" class=\"data row1 col1\" >0.08</td>\n",
       "    </tr>\n",
       "    <tr>\n",
       "      <th id=\"T_ec5d6_level0_row2\" class=\"row_heading level0 row2\" >Infrastructure_Equity_USD_Unhedged_%</th>\n",
       "      <td id=\"T_ec5d6_row2_col0\" class=\"data row2 col0\" >0.08</td>\n",
       "      <td id=\"T_ec5d6_row2_col1\" class=\"data row2 col1\" >0.10</td>\n",
       "    </tr>\n",
       "    <tr>\n",
       "      <th id=\"T_ec5d6_level0_row3\" class=\"row_heading level0 row3\" >Nature_Capital_-_USD_Hedged_%</th>\n",
       "      <td id=\"T_ec5d6_row3_col0\" class=\"data row3 col0\" >0.42</td>\n",
       "      <td id=\"T_ec5d6_row3_col1\" class=\"data row3 col1\" >0.07</td>\n",
       "    </tr>\n",
       "    <tr>\n",
       "      <th id=\"T_ec5d6_level0_row4\" class=\"row_heading level0 row4\" >Private_Equity_USD_Unhedged_%</th>\n",
       "      <td id=\"T_ec5d6_row4_col0\" class=\"data row4 col0\" >0.04</td>\n",
       "      <td id=\"T_ec5d6_row4_col1\" class=\"data row4 col1\" >0.10</td>\n",
       "    </tr>\n",
       "    <tr>\n",
       "      <th id=\"T_ec5d6_level0_row5\" class=\"row_heading level0 row5\" >UK_Property_Direct_-_USD_Unhedged_%</th>\n",
       "      <td id=\"T_ec5d6_row5_col0\" class=\"data row5 col0\" >0.08</td>\n",
       "      <td id=\"T_ec5d6_row5_col1\" class=\"data row5 col1\" >0.10</td>\n",
       "    </tr>\n",
       "  </tbody>\n",
       "</table>\n"
      ],
      "text/plain": [
       "<pandas.io.formats.style.Styler at 0x77b8295a8530>"
      ]
     },
     "execution_count": 12,
     "metadata": {},
     "output_type": "execute_result"
    }
   ],
   "source": [
    "unit_test = {name: (kpss(alternative_data[name].dropna())[0], kpss(alternative_data[name].dropna())[1]) \n",
    "       for name in alternative_data.iloc[:,10:].columns}\n",
    "\n",
    "(pd.DataFrame(unit_test, index = ['value','p-value']).T.style.format(precision = 2)\n",
    ".background_gradient(cmap = 'RdYlGn'))"
   ]
  },
  {
   "cell_type": "markdown",
   "metadata": {},
   "source": [
    "# II. Stats sur global property"
   ]
  },
  {
   "cell_type": "code",
   "execution_count": 7,
   "metadata": {},
   "outputs": [],
   "source": [
    "global_returns = alternative_return['Global_Property_USD_Unhedged_%'].dropna()"
   ]
  },
  {
   "cell_type": "code",
   "execution_count": 8,
   "metadata": {},
   "outputs": [
    {
     "data": {
      "text/plain": [
       "QUARTER\n",
       "1999-06-30    0.097809\n",
       "1999-09-30   -0.063888\n",
       "1999-12-31    0.062225\n",
       "2000-03-31   -0.024800\n",
       "2000-06-30    0.036095\n",
       "                ...   \n",
       "2022-09-30   -0.113868\n",
       "2022-12-31    0.071069\n",
       "2023-03-31    0.010359\n",
       "2023-06-30    0.005429\n",
       "2023-09-30   -0.014102\n",
       "Freq: QE-DEC, Name: Global_Property_USD_Unhedged_%, Length: 98, dtype: float64"
      ]
     },
     "execution_count": 8,
     "metadata": {},
     "output_type": "execute_result"
    }
   ],
   "source": [
    "global_returns"
   ]
  },
  {
   "cell_type": "code",
   "execution_count": 19,
   "metadata": {},
   "outputs": [
    {
     "data": {
      "image/png": "[encoded data removed]",
      "text/plain": [
       "<Figure size 640x480 with 1 Axes>"
      ]
     },
     "metadata": {},
     "output_type": "display_data"
    }
   ],
   "source": [
    "plot_pacf(global_returns, lags = 40)\n",
    "plt.xlabel('Lag')\n",
    "plt.ylabel('Partial Autocorrelation')\n",
    "plt.title('Partial Autocorrelation Function (PACF)')\n",
    "plt.grid()\n",
    "plt.show()"
   ]
  },
  {
   "cell_type": "code",
   "execution_count": 21,
   "metadata": {},
   "outputs": [
    {
     "data": {
      "image/png": "[encoded data removed]",
      "text/plain": [
       "<Figure size 640x480 with 1 Axes>"
      ]
     },
     "metadata": {},
     "output_type": "display_data"
    }
   ],
   "source": [
    "plot_acf(global_returns, lags = 40)\n",
    "plt.xlabel('Lag')\n",
    "plt.ylabel('Autocorrelation')\n",
    "plt.title('Autocorrelation Function (ACF)')\n",
    "plt.grid()\n",
    "plt.show()"
   ]
  }
 ],
 "metadata": {
  "kernelspec": {
   "display_name": "base",
   "language": "python",
   "name": "python3"
  },
  "language_info": {
   "codemirror_mode": {
    "name": "ipython",
    "version": 3
   },
   "file_extension": ".py",
   "mimetype": "text/x-python",
   "name": "python",
   "nbconvert_exporter": "python",
   "pygments_lexer": "ipython3",
   "version": "3.12.2"
  }
 },
 "nbformat": 4,
 "nbformat_minor": 2
}
