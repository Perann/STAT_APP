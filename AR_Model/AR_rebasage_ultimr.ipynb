{
 "cells": [
  {
   "cell_type": "code",
   "execution_count": 390,
   "metadata": {},
   "outputs": [],
   "source": [
    "from AR_functions import AR_model\n",
    "import pandas as pd\n",
    "import matplotlib.pyplot as plt\n",
    "import numpy as np"
   ]
  },
  {
   "cell_type": "code",
   "execution_count": 492,
   "metadata": {},
   "outputs": [],
   "source": [
    "alternative_data_raw = pd.read_excel('/home/perann/Bureau/ENSAE/STAT_APP/EnsaeAlternativeTimeSeries.xlsx', sheet_name='Alternative Asset', index_col=0)\n"
   ]
  },
  {
   "cell_type": "code",
   "execution_count": 661,
   "metadata": {},
   "outputs": [
    {
     "name": "stderr",
     "output_type": "stream",
     "text": [
      "/tmp/ipykernel_175744/4113115834.py:3: UserWarning: Could not infer format, so each element will be parsed individually, falling back to `dateutil`. To ensure parsing is consistent and as-expected, please specify a format.\n",
      "  .set_index(pd.to_datetime(df_.index))\n"
     ]
    },
    {
     "data": {
      "text/html": [
       "<div>\n",
       "<style scoped>\n",
       "    .dataframe tbody tr th:only-of-type {\n",
       "        vertical-align: middle;\n",
       "    }\n",
       "\n",
       "    .dataframe tbody tr th {\n",
       "        vertical-align: top;\n",
       "    }\n",
       "\n",
       "    .dataframe thead th {\n",
       "        text-align: right;\n",
       "    }\n",
       "</style>\n",
       "<table border=\"1\" class=\"dataframe\">\n",
       "  <thead>\n",
       "    <tr style=\"text-align: right;\">\n",
       "      <th></th>\n",
       "      <th>Commodity_-_USD_Unhedged_%</th>\n",
       "      <th>Global_Property_USD_Unhedged_%</th>\n",
       "      <th>Hedge_Fund_DJ_-_USD_Unhedged_%</th>\n",
       "      <th>Infrastructure_Debt_-_USD_Unhedged_%</th>\n",
       "      <th>Infrastructure_Equity_USD_Unhedged_%</th>\n",
       "      <th>Nature_Capital_-_USD_Hedged_%</th>\n",
       "      <th>Private_Equity_USD_Unhedged_%</th>\n",
       "      <th>UK_Property_Direct_-_USD_Unhedged_%</th>\n",
       "    </tr>\n",
       "    <tr>\n",
       "      <th>QUARTER</th>\n",
       "      <th></th>\n",
       "      <th></th>\n",
       "      <th></th>\n",
       "      <th></th>\n",
       "      <th></th>\n",
       "      <th></th>\n",
       "      <th></th>\n",
       "      <th></th>\n",
       "    </tr>\n",
       "  </thead>\n",
       "  <tbody>\n",
       "    <tr>\n",
       "      <th>2022-09-30</th>\n",
       "      <td>-0.041072</td>\n",
       "      <td>-0.113868</td>\n",
       "      <td>0.003530</td>\n",
       "      <td>-0.063910</td>\n",
       "      <td>-0.138062</td>\n",
       "      <td>0.036852</td>\n",
       "      <td>-0.093622</td>\n",
       "      <td>-0.206764</td>\n",
       "    </tr>\n",
       "    <tr>\n",
       "      <th>2022-12-31</th>\n",
       "      <td>0.022188</td>\n",
       "      <td>0.071069</td>\n",
       "      <td>0.008177</td>\n",
       "      <td>0.023940</td>\n",
       "      <td>0.139286</td>\n",
       "      <td>0.031887</td>\n",
       "      <td>0.135844</td>\n",
       "      <td>0.118531</td>\n",
       "    </tr>\n",
       "    <tr>\n",
       "      <th>2023-03-31</th>\n",
       "      <td>-0.053612</td>\n",
       "      <td>0.010359</td>\n",
       "      <td>0.002603</td>\n",
       "      <td>0.031017</td>\n",
       "      <td>-0.031233</td>\n",
       "      <td>0.001511</td>\n",
       "      <td>0.069182</td>\n",
       "      <td>0.019827</td>\n",
       "    </tr>\n",
       "    <tr>\n",
       "      <th>2023-06-30</th>\n",
       "      <td>-0.025624</td>\n",
       "      <td>0.005429</td>\n",
       "      <td>0.017062</td>\n",
       "      <td>0.003213</td>\n",
       "      <td>-0.034827</td>\n",
       "      <td>NaN</td>\n",
       "      <td>0.084293</td>\n",
       "      <td>-0.014544</td>\n",
       "    </tr>\n",
       "    <tr>\n",
       "      <th>2023-09-30</th>\n",
       "      <td>0.039368</td>\n",
       "      <td>-0.014102</td>\n",
       "      <td>0.013006</td>\n",
       "      <td>0.003025</td>\n",
       "      <td>0.009360</td>\n",
       "      <td>NaN</td>\n",
       "      <td>0.017983</td>\n",
       "      <td>0.062951</td>\n",
       "    </tr>\n",
       "  </tbody>\n",
       "</table>\n",
       "</div>"
      ],
      "text/plain": [
       "            Commodity_-_USD_Unhedged_%  Global_Property_USD_Unhedged_%  \\\n",
       "QUARTER                                                                  \n",
       "2022-09-30                   -0.041072                       -0.113868   \n",
       "2022-12-31                    0.022188                        0.071069   \n",
       "2023-03-31                   -0.053612                        0.010359   \n",
       "2023-06-30                   -0.025624                        0.005429   \n",
       "2023-09-30                    0.039368                       -0.014102   \n",
       "\n",
       "            Hedge_Fund_DJ_-_USD_Unhedged_%  \\\n",
       "QUARTER                                      \n",
       "2022-09-30                        0.003530   \n",
       "2022-12-31                        0.008177   \n",
       "2023-03-31                        0.002603   \n",
       "2023-06-30                        0.017062   \n",
       "2023-09-30                        0.013006   \n",
       "\n",
       "            Infrastructure_Debt_-_USD_Unhedged_%  \\\n",
       "QUARTER                                            \n",
       "2022-09-30                             -0.063910   \n",
       "2022-12-31                              0.023940   \n",
       "2023-03-31                              0.031017   \n",
       "2023-06-30                              0.003213   \n",
       "2023-09-30                              0.003025   \n",
       "\n",
       "            Infrastructure_Equity_USD_Unhedged_%  \\\n",
       "QUARTER                                            \n",
       "2022-09-30                             -0.138062   \n",
       "2022-12-31                              0.139286   \n",
       "2023-03-31                             -0.031233   \n",
       "2023-06-30                             -0.034827   \n",
       "2023-09-30                              0.009360   \n",
       "\n",
       "            Nature_Capital_-_USD_Hedged_%  Private_Equity_USD_Unhedged_%  \\\n",
       "QUARTER                                                                    \n",
       "2022-09-30                       0.036852                      -0.093622   \n",
       "2022-12-31                       0.031887                       0.135844   \n",
       "2023-03-31                       0.001511                       0.069182   \n",
       "2023-06-30                            NaN                       0.084293   \n",
       "2023-09-30                            NaN                       0.017983   \n",
       "\n",
       "            UK_Property_Direct_-_USD_Unhedged_%  \n",
       "QUARTER                                          \n",
       "2022-09-30                            -0.206764  \n",
       "2022-12-31                             0.118531  \n",
       "2023-03-31                             0.019827  \n",
       "2023-06-30                            -0.014544  \n",
       "2023-09-30                             0.062951  "
      ]
     },
     "execution_count": 661,
     "metadata": {},
     "output_type": "execute_result"
    }
   ],
   "source": [
    "def tweak_alternative_data(df_):\n",
    "    return (df_.assign(**{col + '_%': df_[col].pct_change(fill_method = None) for col in df_.columns}) #Adding the returs\n",
    "            .set_index(pd.to_datetime(df_.index))\n",
    "            .resample('QE')\n",
    "            .last() #Changing the index format to datetime\n",
    "            .rename(lambda c: c.replace(' ','_'), axis = 1)\n",
    "            .drop(columns = ['Infrastructure_Equity_Listed_-_USD_Unhedged_%','Infrastructure_Equity_Listed_-_USD_Unhedged'])) # Replacing the spaces by _ in the names\n",
    "\n",
    "\n",
    "alternative_data = tweak_alternative_data(alternative_data_raw)\n",
    "alternative_return = alternative_data.iloc[:,8:]\n",
    "alternative_return.tail()"
   ]
  },
  {
   "cell_type": "code",
   "execution_count": 662,
   "metadata": {},
   "outputs": [],
   "source": [
    "def cumulated_returns(serie):\n",
    "    return (1 + serie).cumprod() - 1"
   ]
  },
  {
   "cell_type": "code",
   "execution_count": 734,
   "metadata": {},
   "outputs": [
    {
     "name": "stderr",
     "output_type": "stream",
     "text": [
      "/tmp/ipykernel_175744/2235794183.py:2: FutureWarning: The default fill_method='pad' in DataFrame.pct_change is deprecated and will be removed in a future version. Either fill in any non-leading NA values prior to calling pct_change or specify 'fill_method=None' to not fill NA values.\n",
      "  new = df_.resample('ME').interpolate(method='polynomial', order = 2).pct_change()\n"
     ]
    },
    {
     "data": {
      "text/html": [
       "<div>\n",
       "<style scoped>\n",
       "    .dataframe tbody tr th:only-of-type {\n",
       "        vertical-align: middle;\n",
       "    }\n",
       "\n",
       "    .dataframe tbody tr th {\n",
       "        vertical-align: top;\n",
       "    }\n",
       "\n",
       "    .dataframe thead th {\n",
       "        text-align: right;\n",
       "    }\n",
       "</style>\n",
       "<table border=\"1\" class=\"dataframe\">\n",
       "  <thead>\n",
       "    <tr style=\"text-align: right;\">\n",
       "      <th></th>\n",
       "      <th>Commodity_-_USD_Unhedged</th>\n",
       "      <th>Global_Property_USD_Unhedged</th>\n",
       "      <th>Hedge_Fund_DJ_-_USD_Unhedged</th>\n",
       "      <th>Infrastructure_Debt_-_USD_Unhedged</th>\n",
       "      <th>Infrastructure_Equity_USD_Unhedged</th>\n",
       "      <th>Nature_Capital_-_USD_Hedged</th>\n",
       "      <th>Private_Equity_USD_Unhedged</th>\n",
       "      <th>UK_Property_Direct_-_USD_Unhedged</th>\n",
       "      <th>Commodity_-_USD_Unhedged_unsmoothed</th>\n",
       "      <th>Global_Property_USD_Unhedged_unsmoothed</th>\n",
       "      <th>Hedge_Fund_DJ_-_USD_Unhedged_unsmoothed</th>\n",
       "      <th>Infrastructure_Debt_-_USD_Unhedged_unsmoothed</th>\n",
       "      <th>Infrastructure_Equity_USD_Unhedged_unsmoothed</th>\n",
       "      <th>Nature_Capital_-_USD_Hedged_unsmoothed</th>\n",
       "      <th>Private_Equity_USD_Unhedged_unsmoothed</th>\n",
       "      <th>UK_Property_Direct_-_USD_Unhedged_unsmoothed</th>\n",
       "    </tr>\n",
       "    <tr>\n",
       "      <th>QUARTER</th>\n",
       "      <th></th>\n",
       "      <th></th>\n",
       "      <th></th>\n",
       "      <th></th>\n",
       "      <th></th>\n",
       "      <th></th>\n",
       "      <th></th>\n",
       "      <th></th>\n",
       "      <th></th>\n",
       "      <th></th>\n",
       "      <th></th>\n",
       "      <th></th>\n",
       "      <th></th>\n",
       "      <th></th>\n",
       "      <th></th>\n",
       "      <th></th>\n",
       "    </tr>\n",
       "  </thead>\n",
       "  <tbody>\n",
       "    <tr>\n",
       "      <th>1993-12-31</th>\n",
       "      <td>NaN</td>\n",
       "      <td>NaN</td>\n",
       "      <td>NaN</td>\n",
       "      <td>NaN</td>\n",
       "      <td>NaN</td>\n",
       "      <td>NaN</td>\n",
       "      <td>NaN</td>\n",
       "      <td>NaN</td>\n",
       "      <td>NaN</td>\n",
       "      <td>NaN</td>\n",
       "      <td>NaN</td>\n",
       "      <td>NaN</td>\n",
       "      <td>NaN</td>\n",
       "      <td>NaN</td>\n",
       "      <td>NaN</td>\n",
       "      <td>NaN</td>\n",
       "    </tr>\n",
       "    <tr>\n",
       "      <th>1994-01-31</th>\n",
       "      <td>NaN</td>\n",
       "      <td>NaN</td>\n",
       "      <td>NaN</td>\n",
       "      <td>NaN</td>\n",
       "      <td>NaN</td>\n",
       "      <td>NaN</td>\n",
       "      <td>0.044424</td>\n",
       "      <td>NaN</td>\n",
       "      <td>NaN</td>\n",
       "      <td>NaN</td>\n",
       "      <td>NaN</td>\n",
       "      <td>NaN</td>\n",
       "      <td>NaN</td>\n",
       "      <td>NaN</td>\n",
       "      <td>NaN</td>\n",
       "      <td>NaN</td>\n",
       "    </tr>\n",
       "    <tr>\n",
       "      <th>1994-02-28</th>\n",
       "      <td>NaN</td>\n",
       "      <td>NaN</td>\n",
       "      <td>NaN</td>\n",
       "      <td>NaN</td>\n",
       "      <td>NaN</td>\n",
       "      <td>NaN</td>\n",
       "      <td>0.030236</td>\n",
       "      <td>NaN</td>\n",
       "      <td>NaN</td>\n",
       "      <td>NaN</td>\n",
       "      <td>NaN</td>\n",
       "      <td>NaN</td>\n",
       "      <td>NaN</td>\n",
       "      <td>NaN</td>\n",
       "      <td>0.016049</td>\n",
       "      <td>NaN</td>\n",
       "    </tr>\n",
       "    <tr>\n",
       "      <th>1994-03-31</th>\n",
       "      <td>NaN</td>\n",
       "      <td>NaN</td>\n",
       "      <td>NaN</td>\n",
       "      <td>NaN</td>\n",
       "      <td>NaN</td>\n",
       "      <td>NaN</td>\n",
       "      <td>0.023701</td>\n",
       "      <td>NaN</td>\n",
       "      <td>NaN</td>\n",
       "      <td>NaN</td>\n",
       "      <td>NaN</td>\n",
       "      <td>NaN</td>\n",
       "      <td>NaN</td>\n",
       "      <td>NaN</td>\n",
       "      <td>0.017166</td>\n",
       "      <td>NaN</td>\n",
       "    </tr>\n",
       "    <tr>\n",
       "      <th>1994-04-30</th>\n",
       "      <td>NaN</td>\n",
       "      <td>NaN</td>\n",
       "      <td>NaN</td>\n",
       "      <td>NaN</td>\n",
       "      <td>NaN</td>\n",
       "      <td>NaN</td>\n",
       "      <td>0.013812</td>\n",
       "      <td>NaN</td>\n",
       "      <td>NaN</td>\n",
       "      <td>NaN</td>\n",
       "      <td>NaN</td>\n",
       "      <td>NaN</td>\n",
       "      <td>NaN</td>\n",
       "      <td>NaN</td>\n",
       "      <td>0.003923</td>\n",
       "      <td>NaN</td>\n",
       "    </tr>\n",
       "  </tbody>\n",
       "</table>\n",
       "</div>"
      ],
      "text/plain": [
       "            Commodity_-_USD_Unhedged  Global_Property_USD_Unhedged  \\\n",
       "QUARTER                                                              \n",
       "1993-12-31                       NaN                           NaN   \n",
       "1994-01-31                       NaN                           NaN   \n",
       "1994-02-28                       NaN                           NaN   \n",
       "1994-03-31                       NaN                           NaN   \n",
       "1994-04-30                       NaN                           NaN   \n",
       "\n",
       "            Hedge_Fund_DJ_-_USD_Unhedged  Infrastructure_Debt_-_USD_Unhedged  \\\n",
       "QUARTER                                                                        \n",
       "1993-12-31                           NaN                                 NaN   \n",
       "1994-01-31                           NaN                                 NaN   \n",
       "1994-02-28                           NaN                                 NaN   \n",
       "1994-03-31                           NaN                                 NaN   \n",
       "1994-04-30                           NaN                                 NaN   \n",
       "\n",
       "            Infrastructure_Equity_USD_Unhedged  Nature_Capital_-_USD_Hedged  \\\n",
       "QUARTER                                                                       \n",
       "1993-12-31                                 NaN                          NaN   \n",
       "1994-01-31                                 NaN                          NaN   \n",
       "1994-02-28                                 NaN                          NaN   \n",
       "1994-03-31                                 NaN                          NaN   \n",
       "1994-04-30                                 NaN                          NaN   \n",
       "\n",
       "            Private_Equity_USD_Unhedged  UK_Property_Direct_-_USD_Unhedged  \\\n",
       "QUARTER                                                                      \n",
       "1993-12-31                          NaN                                NaN   \n",
       "1994-01-31                     0.044424                                NaN   \n",
       "1994-02-28                     0.030236                                NaN   \n",
       "1994-03-31                     0.023701                                NaN   \n",
       "1994-04-30                     0.013812                                NaN   \n",
       "\n",
       "            Commodity_-_USD_Unhedged_unsmoothed  \\\n",
       "QUARTER                                           \n",
       "1993-12-31                                  NaN   \n",
       "1994-01-31                                  NaN   \n",
       "1994-02-28                                  NaN   \n",
       "1994-03-31                                  NaN   \n",
       "1994-04-30                                  NaN   \n",
       "\n",
       "            Global_Property_USD_Unhedged_unsmoothed  \\\n",
       "QUARTER                                               \n",
       "1993-12-31                                      NaN   \n",
       "1994-01-31                                      NaN   \n",
       "1994-02-28                                      NaN   \n",
       "1994-03-31                                      NaN   \n",
       "1994-04-30                                      NaN   \n",
       "\n",
       "            Hedge_Fund_DJ_-_USD_Unhedged_unsmoothed  \\\n",
       "QUARTER                                               \n",
       "1993-12-31                                      NaN   \n",
       "1994-01-31                                      NaN   \n",
       "1994-02-28                                      NaN   \n",
       "1994-03-31                                      NaN   \n",
       "1994-04-30                                      NaN   \n",
       "\n",
       "            Infrastructure_Debt_-_USD_Unhedged_unsmoothed  \\\n",
       "QUARTER                                                     \n",
       "1993-12-31                                            NaN   \n",
       "1994-01-31                                            NaN   \n",
       "1994-02-28                                            NaN   \n",
       "1994-03-31                                            NaN   \n",
       "1994-04-30                                            NaN   \n",
       "\n",
       "            Infrastructure_Equity_USD_Unhedged_unsmoothed  \\\n",
       "QUARTER                                                     \n",
       "1993-12-31                                            NaN   \n",
       "1994-01-31                                            NaN   \n",
       "1994-02-28                                            NaN   \n",
       "1994-03-31                                            NaN   \n",
       "1994-04-30                                            NaN   \n",
       "\n",
       "            Nature_Capital_-_USD_Hedged_unsmoothed  \\\n",
       "QUARTER                                              \n",
       "1993-12-31                                     NaN   \n",
       "1994-01-31                                     NaN   \n",
       "1994-02-28                                     NaN   \n",
       "1994-03-31                                     NaN   \n",
       "1994-04-30                                     NaN   \n",
       "\n",
       "            Private_Equity_USD_Unhedged_unsmoothed  \\\n",
       "QUARTER                                              \n",
       "1993-12-31                                     NaN   \n",
       "1994-01-31                                     NaN   \n",
       "1994-02-28                                0.016049   \n",
       "1994-03-31                                0.017166   \n",
       "1994-04-30                                0.003923   \n",
       "\n",
       "            UK_Property_Direct_-_USD_Unhedged_unsmoothed  \n",
       "QUARTER                                                   \n",
       "1993-12-31                                           NaN  \n",
       "1994-01-31                                           NaN  \n",
       "1994-02-28                                           NaN  \n",
       "1994-03-31                                           NaN  \n",
       "1994-04-30                                           NaN  "
      ]
     },
     "execution_count": 734,
     "metadata": {},
     "output_type": "execute_result"
    }
   ],
   "source": [
    "def data_unsmoothing(df_):\n",
    "    new = df_.resample('ME').interpolate(method='polynomial', order = 2).pct_change()\n",
    "    for col in df_.columns:\n",
    "        new[col + '_unsmoothed'] = AR_model(new[col].values)\n",
    "    return new\n",
    "\n",
    "\n",
    "unsmoothed= data_unsmoothing(alternative_data.iloc[:,0:8])\n",
    "unsmoothed.head()"
   ]
  },
  {
   "cell_type": "code",
   "execution_count": 735,
   "metadata": {},
   "outputs": [],
   "source": [
    "to_interpolate = unsmoothed[\"Global_Property_USD_Unhedged_unsmoothed\"]"
   ]
  },
  {
   "cell_type": "code",
   "execution_count": 736,
   "metadata": {},
   "outputs": [],
   "source": [
    "quarter_return = alternative_return['Global_Property_USD_Unhedged_%'].dropna()"
   ]
  },
  {
   "cell_type": "code",
   "execution_count": 737,
   "metadata": {},
   "outputs": [
    {
     "name": "stderr",
     "output_type": "stream",
     "text": [
      "/tmp/ipykernel_175744/1870022240.py:8: FutureWarning: Series.__getitem__ treating keys as positions is deprecated. In a future version, integer keys will always be treated as labels (consistent with DataFrame behavior). To access a value by position, use `ser.iloc[pos]`\n",
      "  serie[3*k+2] = ((1 + quarter[k])/((1 + serie[3*k+1])*(1 + serie[3*k]))) - 1\n"
     ]
    }
   ],
   "source": [
    "to_interpolate = unsmoothed[\"Global_Property_USD_Unhedged_unsmoothed\"]\n",
    "quarter_return = alternative_return['Global_Property_USD_Unhedged_%'].dropna()\n",
    "\n",
    "def AR_rebase(serie,quarter):\n",
    "    #serie = AR_model(serie.values)\n",
    "    serie = serie.values\n",
    "    for k in range(len(quarter)):\n",
    "        serie[3*k+2] = ((1 + quarter[k])/((1 + serie[3*k+1])*(1 + serie[3*k]))) - 1\n",
    "    return serie\n",
    "\n",
    "quarter_return = quarter_return.iloc[1:]\n",
    "to_interpolate = to_interpolate.dropna().iloc[2:]\n",
    "\n",
    "interpolated = pd.Series(AR_rebase(to_interpolate,quarter_return), index = to_interpolate.index)\n"
   ]
  },
  {
   "cell_type": "code",
   "execution_count": 738,
   "metadata": {},
   "outputs": [
    {
     "data": {
      "text/plain": [
       "array([-0.03966882, -0.05198424,  0.02823253,  0.03789249,  0.05115318])"
      ]
     },
     "execution_count": 738,
     "metadata": {},
     "output_type": "execute_result"
    }
   ],
   "source": [
    "interpolated.values[:5]"
   ]
  },
  {
   "cell_type": "code",
   "execution_count": 739,
   "metadata": {},
   "outputs": [
    {
     "data": {
      "text/plain": [
       "-0.06388775642109235"
      ]
     },
     "execution_count": 739,
     "metadata": {},
     "output_type": "execute_result"
    }
   ],
   "source": [
    "(1+interpolated.values[0])*(1+interpolated.values[1])*(1+interpolated.values[2])-1"
   ]
  },
  {
   "cell_type": "code",
   "execution_count": 740,
   "metadata": {},
   "outputs": [
    {
     "data": {
      "text/plain": [
       "<Axes: xlabel='QUARTER'>"
      ]
     },
     "execution_count": 740,
     "metadata": {},
     "output_type": "execute_result"
    },
    {
     "data": {
      "image/png": "[encoded data removed]",
      "text/plain": [
       "<Figure size 640x480 with 1 Axes>"
      ]
     },
     "metadata": {},
     "output_type": "display_data"
    }
   ],
   "source": [
    "to_interpolate.plot()\n",
    "interpolated.plot()"
   ]
  },
  {
   "cell_type": "code",
   "execution_count": 741,
   "metadata": {},
   "outputs": [
    {
     "data": {
      "text/plain": [
       "QUARTER\n",
       "1999-09-30   -0.063888\n",
       "1999-12-31    0.062225\n",
       "2000-03-31   -0.024800\n",
       "2000-06-30    0.036095\n",
       "2000-09-30    0.074871\n",
       "                ...   \n",
       "2022-09-30   -0.113868\n",
       "2022-12-31    0.071069\n",
       "2023-03-31    0.010359\n",
       "2023-06-30    0.005429\n",
       "2023-09-30   -0.014102\n",
       "Freq: QE-DEC, Name: Global_Property_USD_Unhedged_%, Length: 97, dtype: float64"
      ]
     },
     "execution_count": 741,
     "metadata": {},
     "output_type": "execute_result"
    }
   ],
   "source": [
    "quarter_return"
   ]
  },
  {
   "cell_type": "code",
   "execution_count": 742,
   "metadata": {},
   "outputs": [
    {
     "data": {
      "text/plain": [
       "QUARTER\n",
       "1999-07-31   -0.039669\n",
       "1999-08-31   -0.051984\n",
       "1999-09-30    0.028233\n",
       "1999-10-31    0.037892\n",
       "1999-11-30    0.051153\n",
       "                ...   \n",
       "2023-05-31    0.004355\n",
       "2023-06-30   -0.002414\n",
       "2023-07-31   -0.004726\n",
       "2023-08-31   -0.007639\n",
       "2023-09-30   -0.001794\n",
       "Freq: ME, Name: Global_Property_USD_Unhedged_unsmoothed, Length: 291, dtype: float64"
      ]
     },
     "execution_count": 742,
     "metadata": {},
     "output_type": "execute_result"
    }
   ],
   "source": [
    "to_interpolate.dropna()"
   ]
  },
  {
   "cell_type": "code",
   "execution_count": 743,
   "metadata": {},
   "outputs": [
    {
     "data": {
      "text/plain": [
       "QUARTER\n",
       "1999-07-31   -0.039669\n",
       "1999-08-31   -0.089591\n",
       "1999-09-30   -0.063888\n",
       "1999-10-31   -0.028416\n",
       "1999-11-30    0.021283\n",
       "1999-12-31   -0.005638\n",
       "2000-01-31   -0.026177\n",
       "2000-02-29   -0.054299\n",
       "2000-03-31   -0.030298\n",
       "2000-04-30   -0.015919\n",
       "Freq: ME, dtype: float64"
      ]
     },
     "execution_count": 743,
     "metadata": {},
     "output_type": "execute_result"
    }
   ],
   "source": [
    "interpolated.agg(cumulated_returns).loc[:\"2004\"].head(10)"
   ]
  },
  {
   "cell_type": "code",
   "execution_count": 744,
   "metadata": {},
   "outputs": [
    {
     "data": {
      "text/plain": [
       "QUARTER\n",
       "1999-09-30   -0.063888\n",
       "1999-12-31   -0.005638\n",
       "2000-03-31   -0.030298\n",
       "2000-06-30    0.004703\n",
       "2000-09-30    0.079927\n",
       "2000-12-31    0.131992\n",
       "2001-03-31    0.074866\n",
       "2001-06-30    0.139519\n",
       "2001-09-30    0.027504\n",
       "2001-12-31    0.088886\n",
       "2002-03-31    0.147424\n",
       "2002-06-30    0.209830\n",
       "2002-09-30    0.087961\n",
       "2002-12-31    0.119552\n",
       "2003-03-31    0.100172\n",
       "2003-06-30    0.259001\n",
       "2003-09-30    0.408245\n",
       "2003-12-31    0.575149\n",
       "2004-03-31    0.787634\n",
       "2004-06-30    0.713852\n",
       "2004-09-30    0.843666\n",
       "2004-12-31    1.173128\n",
       "Freq: QE-DEC, Name: Global_Property_USD_Unhedged_%, dtype: float64"
      ]
     },
     "execution_count": 744,
     "metadata": {},
     "output_type": "execute_result"
    }
   ],
   "source": [
    "quarter_return.agg(cumulated_returns).loc[:\"2004\"]"
   ]
  },
  {
   "cell_type": "code",
   "execution_count": 745,
   "metadata": {},
   "outputs": [
    {
     "data": {
      "image/png": "[encoded data removed]",
      "text/plain": [
       "<Figure size 640x480 with 1 Axes>"
      ]
     },
     "metadata": {},
     "output_type": "display_data"
    }
   ],
   "source": [
    "plt.plot(interpolated.agg(cumulated_returns).loc[:\"2004\"].index, interpolated.agg(cumulated_returns).loc[:\"2004\"])\n",
    "plt.plot(quarter_return.agg(cumulated_returns).loc[:\"2004\"].index, quarter_return.agg(cumulated_returns).loc[:\"2004\"])\n",
    "plt.show()"
   ]
  },
  {
   "cell_type": "code",
   "execution_count": 746,
   "metadata": {},
   "outputs": [
    {
     "data": {
      "image/png": "[encoded data removed]",
      "text/plain": [
       "<Figure size 640x480 with 1 Axes>"
      ]
     },
     "metadata": {},
     "output_type": "display_data"
    }
   ],
   "source": [
    "plt.figure()\n",
    "plt.plot(interpolated.agg(cumulated_returns).loc[\"2014\":\"2016\"].index, interpolated.agg(cumulated_returns).loc[\"2014\":\"2016\"],'o')\n",
    "plt.plot(quarter_return.agg(cumulated_returns).loc[\"2014\":\"2016\"].index, quarter_return.agg(cumulated_returns).loc[\"2014\":\"2016\"],'o--')\n",
    "plt.xlabel(\"time\")\n",
    "plt.ylabel('returns')\n",
    "plt.title(\"Global Property USD interpolated by AR model\")\n",
    "plt.grid()"
   ]
  },
  {
   "cell_type": "markdown",
   "metadata": {},
   "source": [
    " # AR REBASE 2: Pipe"
   ]
  },
  {
   "cell_type": "code",
   "execution_count": 781,
   "metadata": {},
   "outputs": [],
   "source": [
    "alternative_data_raw = pd.read_excel('/home/perann/Bureau/ENSAE/STAT_APP/EnsaeAlternativeTimeSeries.xlsx', sheet_name='Alternative Asset', index_col=0)"
   ]
  },
  {
   "cell_type": "code",
   "execution_count": 784,
   "metadata": {},
   "outputs": [
    {
     "name": "stderr",
     "output_type": "stream",
     "text": [
      "/tmp/ipykernel_175744/1179806071.py:3: UserWarning: Could not infer format, so each element will be parsed individually, falling back to `dateutil`. To ensure parsing is consistent and as-expected, please specify a format.\n",
      "  .set_index(pd.to_datetime(df_.index))\n"
     ]
    }
   ],
   "source": [
    "def tweak_alternative_data(df_):\n",
    "    return (df_.assign(**{col + '_%': df_[col].pct_change(fill_method = None) for col in df_.columns}) #Adding the returs\n",
    "            .set_index(pd.to_datetime(df_.index))\n",
    "            .resample('QE')\n",
    "            .last() #Changing the index format to datetime\n",
    "            .rename(lambda c: c.replace(' ','_'), axis = 1)\n",
    "            .drop(columns = ['Infrastructure_Equity_Listed_-_USD_Unhedged_%','Infrastructure_Equity_Listed_-_USD_Unhedged'])) # Replacing the spaces by _ in the names\n",
    "\n",
    "\n",
    "alternative_data = tweak_alternative_data(alternative_data_raw)\n",
    "alternative_return = alternative_data.iloc[:,8:]"
   ]
  },
  {
   "cell_type": "code",
   "execution_count": 785,
   "metadata": {},
   "outputs": [
    {
     "name": "stderr",
     "output_type": "stream",
     "text": [
      "/tmp/ipykernel_175744/2235794183.py:2: FutureWarning: The default fill_method='pad' in DataFrame.pct_change is deprecated and will be removed in a future version. Either fill in any non-leading NA values prior to calling pct_change or specify 'fill_method=None' to not fill NA values.\n",
      "  new = df_.resample('ME').interpolate(method='polynomial', order = 2).pct_change()\n"
     ]
    },
    {
     "data": {
      "text/html": [
       "<div>\n",
       "<style scoped>\n",
       "    .dataframe tbody tr th:only-of-type {\n",
       "        vertical-align: middle;\n",
       "    }\n",
       "\n",
       "    .dataframe tbody tr th {\n",
       "        vertical-align: top;\n",
       "    }\n",
       "\n",
       "    .dataframe thead th {\n",
       "        text-align: right;\n",
       "    }\n",
       "</style>\n",
       "<table border=\"1\" class=\"dataframe\">\n",
       "  <thead>\n",
       "    <tr style=\"text-align: right;\">\n",
       "      <th></th>\n",
       "      <th>Commodity_-_USD_Unhedged</th>\n",
       "      <th>Global_Property_USD_Unhedged</th>\n",
       "      <th>Hedge_Fund_DJ_-_USD_Unhedged</th>\n",
       "      <th>Infrastructure_Debt_-_USD_Unhedged</th>\n",
       "      <th>Infrastructure_Equity_USD_Unhedged</th>\n",
       "      <th>Nature_Capital_-_USD_Hedged</th>\n",
       "      <th>Private_Equity_USD_Unhedged</th>\n",
       "      <th>UK_Property_Direct_-_USD_Unhedged</th>\n",
       "      <th>Commodity_-_USD_Unhedged_unsmoothed</th>\n",
       "      <th>Global_Property_USD_Unhedged_unsmoothed</th>\n",
       "      <th>Hedge_Fund_DJ_-_USD_Unhedged_unsmoothed</th>\n",
       "      <th>Infrastructure_Debt_-_USD_Unhedged_unsmoothed</th>\n",
       "      <th>Infrastructure_Equity_USD_Unhedged_unsmoothed</th>\n",
       "      <th>Nature_Capital_-_USD_Hedged_unsmoothed</th>\n",
       "      <th>Private_Equity_USD_Unhedged_unsmoothed</th>\n",
       "      <th>UK_Property_Direct_-_USD_Unhedged_unsmoothed</th>\n",
       "    </tr>\n",
       "    <tr>\n",
       "      <th>QUARTER</th>\n",
       "      <th></th>\n",
       "      <th></th>\n",
       "      <th></th>\n",
       "      <th></th>\n",
       "      <th></th>\n",
       "      <th></th>\n",
       "      <th></th>\n",
       "      <th></th>\n",
       "      <th></th>\n",
       "      <th></th>\n",
       "      <th></th>\n",
       "      <th></th>\n",
       "      <th></th>\n",
       "      <th></th>\n",
       "      <th></th>\n",
       "      <th></th>\n",
       "    </tr>\n",
       "  </thead>\n",
       "  <tbody>\n",
       "    <tr>\n",
       "      <th>1993-12-31</th>\n",
       "      <td>NaN</td>\n",
       "      <td>NaN</td>\n",
       "      <td>NaN</td>\n",
       "      <td>NaN</td>\n",
       "      <td>NaN</td>\n",
       "      <td>NaN</td>\n",
       "      <td>NaN</td>\n",
       "      <td>NaN</td>\n",
       "      <td>NaN</td>\n",
       "      <td>NaN</td>\n",
       "      <td>NaN</td>\n",
       "      <td>NaN</td>\n",
       "      <td>NaN</td>\n",
       "      <td>NaN</td>\n",
       "      <td>NaN</td>\n",
       "      <td>NaN</td>\n",
       "    </tr>\n",
       "    <tr>\n",
       "      <th>1994-01-31</th>\n",
       "      <td>NaN</td>\n",
       "      <td>NaN</td>\n",
       "      <td>NaN</td>\n",
       "      <td>NaN</td>\n",
       "      <td>NaN</td>\n",
       "      <td>NaN</td>\n",
       "      <td>0.044424</td>\n",
       "      <td>NaN</td>\n",
       "      <td>NaN</td>\n",
       "      <td>NaN</td>\n",
       "      <td>NaN</td>\n",
       "      <td>NaN</td>\n",
       "      <td>NaN</td>\n",
       "      <td>NaN</td>\n",
       "      <td>NaN</td>\n",
       "      <td>NaN</td>\n",
       "    </tr>\n",
       "    <tr>\n",
       "      <th>1994-02-28</th>\n",
       "      <td>NaN</td>\n",
       "      <td>NaN</td>\n",
       "      <td>NaN</td>\n",
       "      <td>NaN</td>\n",
       "      <td>NaN</td>\n",
       "      <td>NaN</td>\n",
       "      <td>0.030236</td>\n",
       "      <td>NaN</td>\n",
       "      <td>NaN</td>\n",
       "      <td>NaN</td>\n",
       "      <td>NaN</td>\n",
       "      <td>NaN</td>\n",
       "      <td>NaN</td>\n",
       "      <td>NaN</td>\n",
       "      <td>0.016049</td>\n",
       "      <td>NaN</td>\n",
       "    </tr>\n",
       "    <tr>\n",
       "      <th>1994-03-31</th>\n",
       "      <td>NaN</td>\n",
       "      <td>NaN</td>\n",
       "      <td>NaN</td>\n",
       "      <td>NaN</td>\n",
       "      <td>NaN</td>\n",
       "      <td>NaN</td>\n",
       "      <td>0.023701</td>\n",
       "      <td>NaN</td>\n",
       "      <td>NaN</td>\n",
       "      <td>NaN</td>\n",
       "      <td>NaN</td>\n",
       "      <td>NaN</td>\n",
       "      <td>NaN</td>\n",
       "      <td>NaN</td>\n",
       "      <td>0.017166</td>\n",
       "      <td>NaN</td>\n",
       "    </tr>\n",
       "    <tr>\n",
       "      <th>1994-04-30</th>\n",
       "      <td>NaN</td>\n",
       "      <td>NaN</td>\n",
       "      <td>NaN</td>\n",
       "      <td>NaN</td>\n",
       "      <td>NaN</td>\n",
       "      <td>NaN</td>\n",
       "      <td>0.013812</td>\n",
       "      <td>NaN</td>\n",
       "      <td>NaN</td>\n",
       "      <td>NaN</td>\n",
       "      <td>NaN</td>\n",
       "      <td>NaN</td>\n",
       "      <td>NaN</td>\n",
       "      <td>NaN</td>\n",
       "      <td>0.003923</td>\n",
       "      <td>NaN</td>\n",
       "    </tr>\n",
       "  </tbody>\n",
       "</table>\n",
       "</div>"
      ],
      "text/plain": [
       "            Commodity_-_USD_Unhedged  Global_Property_USD_Unhedged  \\\n",
       "QUARTER                                                              \n",
       "1993-12-31                       NaN                           NaN   \n",
       "1994-01-31                       NaN                           NaN   \n",
       "1994-02-28                       NaN                           NaN   \n",
       "1994-03-31                       NaN                           NaN   \n",
       "1994-04-30                       NaN                           NaN   \n",
       "\n",
       "            Hedge_Fund_DJ_-_USD_Unhedged  Infrastructure_Debt_-_USD_Unhedged  \\\n",
       "QUARTER                                                                        \n",
       "1993-12-31                           NaN                                 NaN   \n",
       "1994-01-31                           NaN                                 NaN   \n",
       "1994-02-28                           NaN                                 NaN   \n",
       "1994-03-31                           NaN                                 NaN   \n",
       "1994-04-30                           NaN                                 NaN   \n",
       "\n",
       "            Infrastructure_Equity_USD_Unhedged  Nature_Capital_-_USD_Hedged  \\\n",
       "QUARTER                                                                       \n",
       "1993-12-31                                 NaN                          NaN   \n",
       "1994-01-31                                 NaN                          NaN   \n",
       "1994-02-28                                 NaN                          NaN   \n",
       "1994-03-31                                 NaN                          NaN   \n",
       "1994-04-30                                 NaN                          NaN   \n",
       "\n",
       "            Private_Equity_USD_Unhedged  UK_Property_Direct_-_USD_Unhedged  \\\n",
       "QUARTER                                                                      \n",
       "1993-12-31                          NaN                                NaN   \n",
       "1994-01-31                     0.044424                                NaN   \n",
       "1994-02-28                     0.030236                                NaN   \n",
       "1994-03-31                     0.023701                                NaN   \n",
       "1994-04-30                     0.013812                                NaN   \n",
       "\n",
       "            Commodity_-_USD_Unhedged_unsmoothed  \\\n",
       "QUARTER                                           \n",
       "1993-12-31                                  NaN   \n",
       "1994-01-31                                  NaN   \n",
       "1994-02-28                                  NaN   \n",
       "1994-03-31                                  NaN   \n",
       "1994-04-30                                  NaN   \n",
       "\n",
       "            Global_Property_USD_Unhedged_unsmoothed  \\\n",
       "QUARTER                                               \n",
       "1993-12-31                                      NaN   \n",
       "1994-01-31                                      NaN   \n",
       "1994-02-28                                      NaN   \n",
       "1994-03-31                                      NaN   \n",
       "1994-04-30                                      NaN   \n",
       "\n",
       "            Hedge_Fund_DJ_-_USD_Unhedged_unsmoothed  \\\n",
       "QUARTER                                               \n",
       "1993-12-31                                      NaN   \n",
       "1994-01-31                                      NaN   \n",
       "1994-02-28                                      NaN   \n",
       "1994-03-31                                      NaN   \n",
       "1994-04-30                                      NaN   \n",
       "\n",
       "            Infrastructure_Debt_-_USD_Unhedged_unsmoothed  \\\n",
       "QUARTER                                                     \n",
       "1993-12-31                                            NaN   \n",
       "1994-01-31                                            NaN   \n",
       "1994-02-28                                            NaN   \n",
       "1994-03-31                                            NaN   \n",
       "1994-04-30                                            NaN   \n",
       "\n",
       "            Infrastructure_Equity_USD_Unhedged_unsmoothed  \\\n",
       "QUARTER                                                     \n",
       "1993-12-31                                            NaN   \n",
       "1994-01-31                                            NaN   \n",
       "1994-02-28                                            NaN   \n",
       "1994-03-31                                            NaN   \n",
       "1994-04-30                                            NaN   \n",
       "\n",
       "            Nature_Capital_-_USD_Hedged_unsmoothed  \\\n",
       "QUARTER                                              \n",
       "1993-12-31                                     NaN   \n",
       "1994-01-31                                     NaN   \n",
       "1994-02-28                                     NaN   \n",
       "1994-03-31                                     NaN   \n",
       "1994-04-30                                     NaN   \n",
       "\n",
       "            Private_Equity_USD_Unhedged_unsmoothed  \\\n",
       "QUARTER                                              \n",
       "1993-12-31                                     NaN   \n",
       "1994-01-31                                     NaN   \n",
       "1994-02-28                                0.016049   \n",
       "1994-03-31                                0.017166   \n",
       "1994-04-30                                0.003923   \n",
       "\n",
       "            UK_Property_Direct_-_USD_Unhedged_unsmoothed  \n",
       "QUARTER                                                   \n",
       "1993-12-31                                           NaN  \n",
       "1994-01-31                                           NaN  \n",
       "1994-02-28                                           NaN  \n",
       "1994-03-31                                           NaN  \n",
       "1994-04-30                                           NaN  "
      ]
     },
     "execution_count": 785,
     "metadata": {},
     "output_type": "execute_result"
    }
   ],
   "source": [
    "def data_unsmoothing(df_):\n",
    "    new = df_.resample('ME').interpolate(method='polynomial', order = 2).pct_change()\n",
    "    for col in df_.columns:\n",
    "        new[col + '_unsmoothed'] = AR_model(new[col].values)\n",
    "    return new\n",
    "\n",
    "\n",
    "unsmoothed= data_unsmoothing(alternative_data.iloc[:,0:8])\n",
    "unsmoothed.head()"
   ]
  },
  {
   "cell_type": "code",
   "execution_count": 854,
   "metadata": {},
   "outputs": [],
   "source": [
    "def oui(name):\n",
    "    to_interpolate = unsmoothed[ name +\"_unsmoothed\"]\n",
    "    quarter_return = alternative_return[ name + '_%'].dropna()\n",
    "\n",
    "    def AR_rebase(serie,quarter):\n",
    "        #serie = AR_model(serie.values)\n",
    "        serie = serie.values\n",
    "        for k in range(len(quarter)):\n",
    "            serie[3*k+2] = ((1 + quarter[k])/((1 + serie[3*k+1])*(1 + serie[3*k]))) - 1\n",
    "        return serie\n",
    "\n",
    "    quarter_return = quarter_return.loc['2008-03-31':]\n",
    "    to_interpolate = to_interpolate.dropna().loc['2008-01-31':]\n",
    "\n",
    "    interpolated = pd.Series(AR_rebase(to_interpolate,quarter_return), index = to_interpolate.index)\n",
    "    return interpolated, quarter_return"
   ]
  },
  {
   "cell_type": "code",
   "execution_count": 832,
   "metadata": {},
   "outputs": [
    {
     "data": {
      "text/plain": [
       "Index(['Commodity_-_USD_Unhedged', 'Global_Property_USD_Unhedged',\n",
       "       'Hedge_Fund_DJ_-_USD_Unhedged', 'Infrastructure_Debt_-_USD_Unhedged',\n",
       "       'Infrastructure_Equity_USD_Unhedged', 'Nature_Capital_-_USD_Hedged',\n",
       "       'Private_Equity_USD_Unhedged', 'UK_Property_Direct_-_USD_Unhedged',\n",
       "       'Commodity_-_USD_Unhedged_%', 'Global_Property_USD_Unhedged_%',\n",
       "       'Hedge_Fund_DJ_-_USD_Unhedged_%',\n",
       "       'Infrastructure_Debt_-_USD_Unhedged_%',\n",
       "       'Infrastructure_Equity_USD_Unhedged_%', 'Nature_Capital_-_USD_Hedged_%',\n",
       "       'Private_Equity_USD_Unhedged_%', 'UK_Property_Direct_-_USD_Unhedged_%'],\n",
       "      dtype='object')"
      ]
     },
     "execution_count": 832,
     "metadata": {},
     "output_type": "execute_result"
    }
   ],
   "source": [
    "alternative_data.columns"
   ]
  },
  {
   "cell_type": "code",
   "execution_count": 863,
   "metadata": {},
   "outputs": [
    {
     "name": "stderr",
     "output_type": "stream",
     "text": [
      "/tmp/ipykernel_175744/2064823133.py:9: FutureWarning: Series.__getitem__ treating keys as positions is deprecated. In a future version, integer keys will always be treated as labels (consistent with DataFrame behavior). To access a value by position, use `ser.iloc[pos]`\n",
      "  serie[3*k+2] = ((1 + quarter[k])/((1 + serie[3*k+1])*(1 + serie[3*k]))) - 1\n"
     ]
    }
   ],
   "source": [
    "interpolated, quarter_return = oui('Infrastructure_Equity_USD_Unhedged')"
   ]
  },
  {
   "cell_type": "code",
   "execution_count": 864,
   "metadata": {},
   "outputs": [
    {
     "data": {
      "text/plain": [
       "QUARTER\n",
       "2008-01-31   -0.000382\n",
       "2008-02-29   -0.003168\n",
       "2008-03-31    0.028364\n",
       "2008-04-30    0.075769\n",
       "2008-05-31    0.127272\n",
       "2008-06-30    0.106802\n",
       "2008-07-31    0.020831\n",
       "2008-08-31   -0.097492\n",
       "2008-09-30   -0.103943\n",
       "2008-10-31   -0.216913\n",
       "2008-11-30   -0.315597\n",
       "2008-12-31   -0.357501\n",
       "2009-01-31   -0.347586\n",
       "2009-02-28   -0.301134\n",
       "2009-03-31   -0.336475\n",
       "2009-04-30   -0.264934\n",
       "2009-05-31   -0.179327\n",
       "2009-06-30   -0.163077\n",
       "2009-07-31   -0.167688\n",
       "2009-08-31   -0.188677\n",
       "Freq: ME, dtype: float64"
      ]
     },
     "execution_count": 864,
     "metadata": {},
     "output_type": "execute_result"
    }
   ],
   "source": [
    "interpolated.agg(cumulated_returns).head(20)"
   ]
  },
  {
   "cell_type": "code",
   "execution_count": 865,
   "metadata": {},
   "outputs": [
    {
     "data": {
      "text/plain": [
       "QUARTER\n",
       "2008-03-31    0.028364\n",
       "2008-06-30    0.106802\n",
       "2008-09-30   -0.103943\n",
       "2008-12-31   -0.357501\n",
       "2009-03-31   -0.336475\n",
       "                ...   \n",
       "2022-09-30    1.066925\n",
       "2022-12-31    1.354818\n",
       "2023-03-31    1.281270\n",
       "2023-06-30    1.201819\n",
       "2023-09-30    1.222429\n",
       "Freq: QE-DEC, Name: Infrastructure_Equity_USD_Unhedged_%, Length: 63, dtype: float64"
      ]
     },
     "execution_count": 865,
     "metadata": {},
     "output_type": "execute_result"
    }
   ],
   "source": [
    "quarter_return.agg(cumulated_returns)"
   ]
  },
  {
   "cell_type": "code",
   "execution_count": 866,
   "metadata": {},
   "outputs": [
    {
     "data": {
      "image/png": "[encoded data removed]",
      "text/plain": [
       "<Figure size 640x480 with 1 Axes>"
      ]
     },
     "metadata": {},
     "output_type": "display_data"
    }
   ],
   "source": [
    "plt.figure()\n",
    "plt.plot(interpolated.agg(cumulated_returns).loc[:\"2010\"].index, interpolated.agg(cumulated_returns).loc[:\"2010\"],'o')\n",
    "plt.plot(quarter_return.agg(cumulated_returns).loc[:\"2010\"].index, quarter_return.agg(cumulated_returns).loc[:\"2010\"],'o--')\n",
    "plt.xlabel(\"time\")\n",
    "plt.ylabel('returns')\n",
    "plt.title(\"Global Property USD interpolated by AR model\")\n",
    "plt.grid()"
   ]
  },
  {
   "cell_type": "code",
   "execution_count": 870,
   "metadata": {},
   "outputs": [
    {
     "data": {
      "text/plain": [
       "Index(['Commodity_-_USD_Unhedged', 'Global_Property_USD_Unhedged',\n",
       "       'Hedge_Fund_DJ_-_USD_Unhedged', 'Infrastructure_Debt_-_USD_Unhedged',\n",
       "       'Infrastructure_Equity_USD_Unhedged', 'Nature_Capital_-_USD_Hedged',\n",
       "       'Private_Equity_USD_Unhedged', 'UK_Property_Direct_-_USD_Unhedged'],\n",
       "      dtype='object')"
      ]
     },
     "execution_count": 870,
     "metadata": {},
     "output_type": "execute_result"
    }
   ],
   "source": [
    "alternative_data.columns[:8]"
   ]
  },
  {
   "cell_type": "markdown",
   "metadata": {},
   "source": [
    "# AR rebasé : Pipeline"
   ]
  },
  {
   "cell_type": "code",
   "execution_count": 747,
   "metadata": {},
   "outputs": [],
   "source": [
    "alternative_data_raw = pd.read_excel('/home/perann/Bureau/ENSAE/STAT_APP/EnsaeAlternativeTimeSeries.xlsx', sheet_name='Alternative Asset', index_col=0)"
   ]
  },
  {
   "cell_type": "code",
   "execution_count": 748,
   "metadata": {},
   "outputs": [
    {
     "name": "stderr",
     "output_type": "stream",
     "text": [
      "/tmp/ipykernel_175744/1179806071.py:3: UserWarning: Could not infer format, so each element will be parsed individually, falling back to `dateutil`. To ensure parsing is consistent and as-expected, please specify a format.\n",
      "  .set_index(pd.to_datetime(df_.index))\n"
     ]
    }
   ],
   "source": [
    "def tweak_alternative_data(df_):\n",
    "    return (df_.assign(**{col + '_%': df_[col].pct_change(fill_method = None) for col in df_.columns}) #Adding the returs\n",
    "            .set_index(pd.to_datetime(df_.index))\n",
    "            .resample('QE')\n",
    "            .last() #Changing the index format to datetime\n",
    "            .rename(lambda c: c.replace(' ','_'), axis = 1)\n",
    "            .drop(columns = ['Infrastructure_Equity_Listed_-_USD_Unhedged_%','Infrastructure_Equity_Listed_-_USD_Unhedged'])) # Replacing the spaces by _ in the names\n",
    "\n",
    "\n",
    "alternative_data = tweak_alternative_data(alternative_data_raw)\n",
    "alternative_return = alternative_data.iloc[:,8:]"
   ]
  },
  {
   "cell_type": "code",
   "execution_count": 750,
   "metadata": {},
   "outputs": [
    {
     "name": "stderr",
     "output_type": "stream",
     "text": [
      "/tmp/ipykernel_175744/4255242419.py:2: FutureWarning: The default fill_method='pad' in DataFrame.pct_change is deprecated and will be removed in a future version. Either fill in any non-leading NA values prior to calling pct_change or specify 'fill_method=None' to not fill NA values.\n",
      "  new = df_.resample('ME').interpolate(method='polynomial', order = 2).pct_change()\n"
     ]
    }
   ],
   "source": [
    "def data_unsmoothing(df_):\n",
    "    new = df_.resample('ME').interpolate(method='polynomial', order = 2).pct_change()\n",
    "    for col in df_.columns:\n",
    "        new[col + '_unsmoothed'] = AR_model(new[col].values)\n",
    "    return new\n",
    "\n",
    "\n",
    "unsmoothed = data_unsmoothing(alternative_data.iloc[:,0:8])"
   ]
  },
  {
   "cell_type": "code",
   "execution_count": null,
   "metadata": {},
   "outputs": [],
   "source": []
  },
  {
   "cell_type": "code",
   "execution_count": 751,
   "metadata": {},
   "outputs": [],
   "source": [
    "def AR_final(name):\n",
    "    to_interpolate = unsmoothed[name + \"_unsmoothed\"]\n",
    "    quarter_return = alternative_return[name + '_%'].dropna()\n",
    "\n",
    "    def AR_rebase(serie,quarter):\n",
    "        serie = serie.values\n",
    "        for k in range(len(quarter)):\n",
    "            serie[3*k+2] = ((1 + quarter[k])/((1 + serie[3*k+1])*(1 + serie[3*k]))) - 1\n",
    "        return serie\n",
    "\n",
    "    quarter_return = quarter_return.loc[\"2007-09-30\":]#.iloc[1:]\n",
    "    to_interpolate = to_interpolate.dropna().loc[\"2007-07-31\":]#.iloc[2:]\n",
    "\n",
    "    interpolated = pd.Series(AR_rebase(to_interpolate,quarter_return), index = to_interpolate.index)\n",
    "    return interpolated"
   ]
  },
  {
   "cell_type": "code",
   "execution_count": 719,
   "metadata": {},
   "outputs": [],
   "source": [
    "def AR_final(name):\n",
    "\n",
    "    to_interpolate = unsmoothed[name + \"_unsmoothed\"]\n",
    "    quarter_return = alternative_return[name+'_%'].dropna()\n",
    "\n",
    "    def AR_rebase(serie,quarter):\n",
    "        #serie = AR_model(serie.values)\n",
    "        serie = serie.values\n",
    "        for k in range(len(quarter)):\n",
    "            serie[3*k+2] = ((1 + quarter[k])/((1 + serie[3*k+1])*(1 + serie[3*k]))) - 1\n",
    "        return serie\n",
    "\n",
    "    quarter_return = quarter_return.loc[\"2010-06-30\":]\n",
    "    to_interpolate = to_interpolate.dropna().loc[\"2010-03-31\":]\n",
    "\n",
    "    interpolated = pd.Series(AR_rebase(to_interpolate,quarter_return), index = to_interpolate.index)\n",
    "    return interpolated"
   ]
  },
  {
   "cell_type": "code",
   "execution_count": 752,
   "metadata": {},
   "outputs": [
    {
     "name": "stderr",
     "output_type": "stream",
     "text": [
      "/tmp/ipykernel_175744/3256782420.py:8: FutureWarning: Series.__getitem__ treating keys as positions is deprecated. In a future version, integer keys will always be treated as labels (consistent with DataFrame behavior). To access a value by position, use `ser.iloc[pos]`\n",
      "  serie[3*k+2] = ((1 + quarter[k])/((1 + serie[3*k+1])*(1 + serie[3*k]))) - 1\n"
     ]
    }
   ],
   "source": [
    "interpolated = AR_final('Global_Property_USD_Unhedged')"
   ]
  },
  {
   "cell_type": "code",
   "execution_count": 753,
   "metadata": {},
   "outputs": [
    {
     "data": {
      "image/png": "[encoded data removed]",
      "text/plain": [
       "<Figure size 640x480 with 1 Axes>"
      ]
     },
     "metadata": {},
     "output_type": "display_data"
    }
   ],
   "source": [
    "plt.figure()\n",
    "plt.plot(interpolated.agg(cumulated_returns).loc[\"2014\":\"2016\"].index, interpolated.agg(cumulated_returns).loc[\"2014\":\"2016\"],'o')\n",
    "plt.plot(quarter_return.agg(cumulated_returns).loc[\"2014\":\"2016\"].index, quarter_return.agg(cumulated_returns).loc[\"2014\":\"2016\"],'o--')\n",
    "plt.xlabel(\"time\")\n",
    "plt.ylabel('returns')\n",
    "plt.title(\"Global Property USD interpolated by AR model\")\n",
    "plt.grid()"
   ]
  },
  {
   "cell_type": "code",
   "execution_count": 591,
   "metadata": {},
   "outputs": [
    {
     "name": "stderr",
     "output_type": "stream",
     "text": [
      "/tmp/ipykernel_175744/1254401707.py:10: FutureWarning: Series.__getitem__ treating keys as positions is deprecated. In a future version, integer keys will always be treated as labels (consistent with DataFrame behavior). To access a value by position, use `ser.iloc[pos]`\n",
      "  serie[3*k+2] = ((1 + quarter[k])/((1 + serie[3*k+1])*(1 + serie[3*k]))) - 1\n"
     ]
    }
   ],
   "source": [
    "serie_commo = AR_final('Commodity_-_USD_Unhedged')\n",
    "serie_GP =  AR_final('Global_Property_USD_Unhedged')\n",
    "serie_hedge = AR_final('Hedge_Fund_DJ_-_USD_Unhedged')\n",
    "serie_uk_prop = AR_final('UK_Property_Direct_-_USD_Unhedged')\n",
    "serie_infra_debt = AR_final('Infrastructure_Debt_-_USD_Unhedged')\n",
    "serie_nat_cap = AR_final('Nature_Capital_-_USD_Hedged')\n",
    "serie_pe = AR_final('Private_Equity_USD_Unhedged')\n",
    "#serie_infra_equ = AR_final('Infrastructure_Equity_USD_Unhedged')\t"
   ]
  },
  {
   "cell_type": "code",
   "execution_count": 699,
   "metadata": {},
   "outputs": [
    {
     "data": {
      "text/plain": [
       "QUARTER\n",
       "2007-04-30   -0.008087\n",
       "2007-05-31   -0.011314\n",
       "2007-06-30    0.018377\n",
       "2007-07-31    0.027269\n",
       "2007-08-31    0.034096\n",
       "                ...   \n",
       "2023-05-31   -0.003554\n",
       "2023-06-30   -0.013597\n",
       "2023-07-31    0.013201\n",
       "2023-08-31    0.020934\n",
       "2023-09-30    0.004791\n",
       "Freq: ME, Length: 198, dtype: float64"
      ]
     },
     "execution_count": 699,
     "metadata": {},
     "output_type": "execute_result"
    }
   ],
   "source": [
    "serie_commo"
   ]
  },
  {
   "cell_type": "code",
   "execution_count": 592,
   "metadata": {},
   "outputs": [
    {
     "name": "stderr",
     "output_type": "stream",
     "text": [
      "/tmp/ipykernel_175744/1254401707.py:10: FutureWarning: Series.__getitem__ treating keys as positions is deprecated. In a future version, integer keys will always be treated as labels (consistent with DataFrame behavior). To access a value by position, use `ser.iloc[pos]`\n",
      "  serie[3*k+2] = ((1 + quarter[k])/((1 + serie[3*k+1])*(1 + serie[3*k]))) - 1\n"
     ]
    },
    {
     "ename": "IndexError",
     "evalue": "index 197 is out of bounds for axis 0 with size 197",
     "output_type": "error",
     "traceback": [
      "\u001b[0;31m---------------------------------------------------------------------------\u001b[0m",
      "\u001b[0;31mIndexError\u001b[0m                                Traceback (most recent call last)",
      "Cell \u001b[0;32mIn[592], line 1\u001b[0m\n\u001b[0;32m----> 1\u001b[0m serie_infra_equ \u001b[38;5;241m=\u001b[39m \u001b[43mAR_final\u001b[49m\u001b[43m(\u001b[49m\u001b[38;5;124;43m'\u001b[39;49m\u001b[38;5;124;43mInfrastructure_Equity_USD_Unhedged\u001b[39;49m\u001b[38;5;124;43m'\u001b[39;49m\u001b[43m)\u001b[49m\n",
      "Cell \u001b[0;32mIn[587], line 16\u001b[0m, in \u001b[0;36mAR_final\u001b[0;34m(name)\u001b[0m\n\u001b[1;32m     13\u001b[0m quarter_return \u001b[38;5;241m=\u001b[39m quarter_return\u001b[38;5;241m.\u001b[39mloc[\u001b[38;5;124m\"\u001b[39m\u001b[38;5;124m2007-06-30\u001b[39m\u001b[38;5;124m\"\u001b[39m:]\n\u001b[1;32m     14\u001b[0m to_interpolate \u001b[38;5;241m=\u001b[39m to_interpolate\u001b[38;5;241m.\u001b[39mdropna()\u001b[38;5;241m.\u001b[39mloc[\u001b[38;5;124m\"\u001b[39m\u001b[38;5;124m2007-04-30\u001b[39m\u001b[38;5;124m\"\u001b[39m:]\n\u001b[0;32m---> 16\u001b[0m interpolated \u001b[38;5;241m=\u001b[39m pd\u001b[38;5;241m.\u001b[39mSeries(\u001b[43mAR_rebase\u001b[49m\u001b[43m(\u001b[49m\u001b[43mto_interpolate\u001b[49m\u001b[43m,\u001b[49m\u001b[43mquarter_return\u001b[49m\u001b[43m)\u001b[49m, index \u001b[38;5;241m=\u001b[39m to_interpolate\u001b[38;5;241m.\u001b[39mindex)\n\u001b[1;32m     17\u001b[0m \u001b[38;5;28;01mreturn\u001b[39;00m interpolated\n",
      "Cell \u001b[0;32mIn[587], line 10\u001b[0m, in \u001b[0;36mAR_final.<locals>.AR_rebase\u001b[0;34m(serie, quarter)\u001b[0m\n\u001b[1;32m      8\u001b[0m serie \u001b[38;5;241m=\u001b[39m serie\u001b[38;5;241m.\u001b[39mvalues\n\u001b[1;32m      9\u001b[0m \u001b[38;5;28;01mfor\u001b[39;00m k \u001b[38;5;129;01min\u001b[39;00m \u001b[38;5;28mrange\u001b[39m(\u001b[38;5;28mlen\u001b[39m(quarter)):\n\u001b[0;32m---> 10\u001b[0m     \u001b[43mserie\u001b[49m\u001b[43m[\u001b[49m\u001b[38;5;241;43m3\u001b[39;49m\u001b[38;5;241;43m*\u001b[39;49m\u001b[43mk\u001b[49m\u001b[38;5;241;43m+\u001b[39;49m\u001b[38;5;241;43m2\u001b[39;49m\u001b[43m]\u001b[49m \u001b[38;5;241m=\u001b[39m ((\u001b[38;5;241m1\u001b[39m \u001b[38;5;241m+\u001b[39m quarter[k])\u001b[38;5;241m/\u001b[39m((\u001b[38;5;241m1\u001b[39m \u001b[38;5;241m+\u001b[39m serie[\u001b[38;5;241m3\u001b[39m\u001b[38;5;241m*\u001b[39mk\u001b[38;5;241m+\u001b[39m\u001b[38;5;241m1\u001b[39m])\u001b[38;5;241m*\u001b[39m(\u001b[38;5;241m1\u001b[39m \u001b[38;5;241m+\u001b[39m serie[\u001b[38;5;241m3\u001b[39m\u001b[38;5;241m*\u001b[39mk]))) \u001b[38;5;241m-\u001b[39m \u001b[38;5;241m1\u001b[39m\n\u001b[1;32m     11\u001b[0m \u001b[38;5;28;01mreturn\u001b[39;00m serie\n",
      "\u001b[0;31mIndexError\u001b[0m: index 197 is out of bounds for axis 0 with size 197"
     ]
    }
   ],
   "source": [
    "serie_infra_equ = AR_final('Infrastructure_Equity_USD_Unhedged')"
   ]
  },
  {
   "cell_type": "code",
   "execution_count": null,
   "metadata": {},
   "outputs": [],
   "source": []
  },
  {
   "cell_type": "code",
   "execution_count": null,
   "metadata": {},
   "outputs": [],
   "source": []
  },
  {
   "cell_type": "markdown",
   "metadata": {},
   "source": [
    "# Modèles naifs : Linéaire"
   ]
  },
  {
   "cell_type": "code",
   "execution_count": 604,
   "metadata": {},
   "outputs": [],
   "source": [
    "price = alternative_data.loc['31-03-2007':].iloc[:,:8]"
   ]
  },
  {
   "cell_type": "code",
   "execution_count": 608,
   "metadata": {},
   "outputs": [
    {
     "data": {
      "text/html": [
       "<div>\n",
       "<style scoped>\n",
       "    .dataframe tbody tr th:only-of-type {\n",
       "        vertical-align: middle;\n",
       "    }\n",
       "\n",
       "    .dataframe tbody tr th {\n",
       "        vertical-align: top;\n",
       "    }\n",
       "\n",
       "    .dataframe thead th {\n",
       "        text-align: right;\n",
       "    }\n",
       "</style>\n",
       "<table border=\"1\" class=\"dataframe\">\n",
       "  <thead>\n",
       "    <tr style=\"text-align: right;\">\n",
       "      <th></th>\n",
       "      <th>Commodity_-_USD_Unhedged</th>\n",
       "      <th>Global_Property_USD_Unhedged</th>\n",
       "      <th>Hedge_Fund_DJ_-_USD_Unhedged</th>\n",
       "      <th>Infrastructure_Debt_-_USD_Unhedged</th>\n",
       "      <th>Infrastructure_Equity_USD_Unhedged</th>\n",
       "      <th>Nature_Capital_-_USD_Hedged</th>\n",
       "      <th>Private_Equity_USD_Unhedged</th>\n",
       "      <th>UK_Property_Direct_-_USD_Unhedged</th>\n",
       "    </tr>\n",
       "    <tr>\n",
       "      <th>QUARTER</th>\n",
       "      <th></th>\n",
       "      <th></th>\n",
       "      <th></th>\n",
       "      <th></th>\n",
       "      <th></th>\n",
       "      <th></th>\n",
       "      <th></th>\n",
       "      <th></th>\n",
       "    </tr>\n",
       "  </thead>\n",
       "  <tbody>\n",
       "    <tr>\n",
       "      <th>2007-03-31</th>\n",
       "      <td>NaN</td>\n",
       "      <td>NaN</td>\n",
       "      <td>NaN</td>\n",
       "      <td>NaN</td>\n",
       "      <td>NaN</td>\n",
       "      <td>NaN</td>\n",
       "      <td>NaN</td>\n",
       "      <td>NaN</td>\n",
       "    </tr>\n",
       "    <tr>\n",
       "      <th>2007-04-30</th>\n",
       "      <td>-0.000429</td>\n",
       "      <td>-0.019504</td>\n",
       "      <td>0.017299</td>\n",
       "      <td>-0.003971</td>\n",
       "      <td>0.022482</td>\n",
       "      <td>0.012454</td>\n",
       "      <td>0.011437</td>\n",
       "      <td>-0.023148</td>\n",
       "    </tr>\n",
       "    <tr>\n",
       "      <th>2007-05-31</th>\n",
       "      <td>-0.000429</td>\n",
       "      <td>-0.019892</td>\n",
       "      <td>0.017005</td>\n",
       "      <td>-0.003987</td>\n",
       "      <td>0.021988</td>\n",
       "      <td>0.012300</td>\n",
       "      <td>0.011307</td>\n",
       "      <td>-0.023696</td>\n",
       "    </tr>\n",
       "    <tr>\n",
       "      <th>2007-06-30</th>\n",
       "      <td>-0.000430</td>\n",
       "      <td>-0.020296</td>\n",
       "      <td>0.016721</td>\n",
       "      <td>-0.004003</td>\n",
       "      <td>0.021515</td>\n",
       "      <td>0.012151</td>\n",
       "      <td>0.011181</td>\n",
       "      <td>-0.024271</td>\n",
       "    </tr>\n",
       "    <tr>\n",
       "      <th>2007-07-31</th>\n",
       "      <td>0.020809</td>\n",
       "      <td>0.012186</td>\n",
       "      <td>0.003763</td>\n",
       "      <td>0.010769</td>\n",
       "      <td>-0.008341</td>\n",
       "      <td>0.005997</td>\n",
       "      <td>-0.015508</td>\n",
       "      <td>-0.014237</td>\n",
       "    </tr>\n",
       "  </tbody>\n",
       "</table>\n",
       "</div>"
      ],
      "text/plain": [
       "            Commodity_-_USD_Unhedged  Global_Property_USD_Unhedged  \\\n",
       "QUARTER                                                              \n",
       "2007-03-31                       NaN                           NaN   \n",
       "2007-04-30                 -0.000429                     -0.019504   \n",
       "2007-05-31                 -0.000429                     -0.019892   \n",
       "2007-06-30                 -0.000430                     -0.020296   \n",
       "2007-07-31                  0.020809                      0.012186   \n",
       "\n",
       "            Hedge_Fund_DJ_-_USD_Unhedged  Infrastructure_Debt_-_USD_Unhedged  \\\n",
       "QUARTER                                                                        \n",
       "2007-03-31                           NaN                                 NaN   \n",
       "2007-04-30                      0.017299                           -0.003971   \n",
       "2007-05-31                      0.017005                           -0.003987   \n",
       "2007-06-30                      0.016721                           -0.004003   \n",
       "2007-07-31                      0.003763                            0.010769   \n",
       "\n",
       "            Infrastructure_Equity_USD_Unhedged  Nature_Capital_-_USD_Hedged  \\\n",
       "QUARTER                                                                       \n",
       "2007-03-31                                 NaN                          NaN   \n",
       "2007-04-30                            0.022482                     0.012454   \n",
       "2007-05-31                            0.021988                     0.012300   \n",
       "2007-06-30                            0.021515                     0.012151   \n",
       "2007-07-31                           -0.008341                     0.005997   \n",
       "\n",
       "            Private_Equity_USD_Unhedged  UK_Property_Direct_-_USD_Unhedged  \n",
       "QUARTER                                                                     \n",
       "2007-03-31                          NaN                                NaN  \n",
       "2007-04-30                     0.011437                          -0.023148  \n",
       "2007-05-31                     0.011307                          -0.023696  \n",
       "2007-06-30                     0.011181                          -0.024271  \n",
       "2007-07-31                    -0.015508                          -0.014237  "
      ]
     },
     "execution_count": 608,
     "metadata": {},
     "output_type": "execute_result"
    }
   ],
   "source": [
    "linear_returns = price.resample('ME').interpolate(method = 'linear').pct_change()\n",
    "linear_returns.head()"
   ]
  },
  {
   "cell_type": "code",
   "execution_count": 609,
   "metadata": {},
   "outputs": [
    {
     "data": {
      "text/plain": [
       "Text(0.5, 1.0, 'Linear Interpolation')"
      ]
     },
     "execution_count": 609,
     "metadata": {},
     "output_type": "execute_result"
    },
    {
     "data": {
      "image/png": "[encoded data removed]",
      "text/plain": [
       "<Figure size 640x480 with 1 Axes>"
      ]
     },
     "metadata": {},
     "output_type": "display_data"
    }
   ],
   "source": [
    "fig, axis = plt.subplots()\n",
    "\n",
    "(linear_returns.Global_Property_USD_Unhedged\n",
    " .agg(cumulated_returns)\n",
    " .loc['31-03-2017' : '31-03-2019']\n",
    ".plot(ax = axis, style = 'o',grid = True)\n",
    ".legend())\n",
    "\n",
    "\n",
    "(price.Global_Property_USD_Unhedged\n",
    " .resample('ME')\n",
    " .interpolate('linear')\n",
    " .pct_change()\n",
    " .agg(cumulated_returns)\n",
    " .loc['31-03-2017': '31-03-2019']\n",
    " .iloc[::3]\n",
    " .plot(ax = axis, style = 'o--', grid = True)\n",
    " .legend())\n",
    "\n",
    "axis.set_title('Linear Interpolation')"
   ]
  },
  {
   "cell_type": "markdown",
   "metadata": {},
   "source": [
    "## Correlation matrix"
   ]
  },
  {
   "cell_type": "code",
   "execution_count": 445,
   "metadata": {},
   "outputs": [
    {
     "data": {
      "text/html": [
       "<style type=\"text/css\">\n",
       "#T_4853a_row0_col0, #T_4853a_row1_col1, #T_4853a_row2_col2, #T_4853a_row3_col3, #T_4853a_row4_col4, #T_4853a_row5_col5, #T_4853a_row6_col6, #T_4853a_row7_col7 {\n",
       "  background-color: #006837;\n",
       "  color: #f1f1f1;\n",
       "}\n",
       "#T_4853a_row0_col1, #T_4853a_row1_col0 {\n",
       "  background-color: #4eb15d;\n",
       "  color: #f1f1f1;\n",
       "}\n",
       "#T_4853a_row0_col2, #T_4853a_row2_col0 {\n",
       "  background-color: #18954f;\n",
       "  color: #f1f1f1;\n",
       "}\n",
       "#T_4853a_row0_col3, #T_4853a_row3_col0 {\n",
       "  background-color: #fedc88;\n",
       "  color: #000000;\n",
       "}\n",
       "#T_4853a_row0_col4, #T_4853a_row3_col4, #T_4853a_row4_col0, #T_4853a_row4_col3 {\n",
       "  background-color: #9dd569;\n",
       "  color: #000000;\n",
       "}\n",
       "#T_4853a_row0_col5, #T_4853a_row5_col0 {\n",
       "  background-color: #249d53;\n",
       "  color: #f1f1f1;\n",
       "}\n",
       "#T_4853a_row0_col6, #T_4853a_row6_col0 {\n",
       "  background-color: #69be63;\n",
       "  color: #f1f1f1;\n",
       "}\n",
       "#T_4853a_row0_col7, #T_4853a_row7_col0 {\n",
       "  background-color: #60ba62;\n",
       "  color: #f1f1f1;\n",
       "}\n",
       "#T_4853a_row1_col2, #T_4853a_row2_col1 {\n",
       "  background-color: #15904c;\n",
       "  color: #f1f1f1;\n",
       "}\n",
       "#T_4853a_row1_col3, #T_4853a_row3_col1 {\n",
       "  background-color: #b9e176;\n",
       "  color: #000000;\n",
       "}\n",
       "#T_4853a_row1_col4, #T_4853a_row4_col1 {\n",
       "  background-color: #199750;\n",
       "  color: #f1f1f1;\n",
       "}\n",
       "#T_4853a_row1_col5, #T_4853a_row5_col1 {\n",
       "  background-color: #7ac665;\n",
       "  color: #000000;\n",
       "}\n",
       "#T_4853a_row1_col6, #T_4853a_row6_col1 {\n",
       "  background-color: #0a7b41;\n",
       "  color: #f1f1f1;\n",
       "}\n",
       "#T_4853a_row1_col7, #T_4853a_row7_col1 {\n",
       "  background-color: #0e8245;\n",
       "  color: #f1f1f1;\n",
       "}\n",
       "#T_4853a_row2_col3, #T_4853a_row3_col2 {\n",
       "  background-color: #fdfebc;\n",
       "  color: #000000;\n",
       "}\n",
       "#T_4853a_row2_col4, #T_4853a_row2_col5, #T_4853a_row4_col2, #T_4853a_row5_col2 {\n",
       "  background-color: #5db961;\n",
       "  color: #f1f1f1;\n",
       "}\n",
       "#T_4853a_row2_col6, #T_4853a_row6_col2 {\n",
       "  background-color: #0f8446;\n",
       "  color: #f1f1f1;\n",
       "}\n",
       "#T_4853a_row2_col7, #T_4853a_row7_col2 {\n",
       "  background-color: #33a456;\n",
       "  color: #f1f1f1;\n",
       "}\n",
       "#T_4853a_row3_col5, #T_4853a_row5_col3 {\n",
       "  background-color: #fba35c;\n",
       "  color: #000000;\n",
       "}\n",
       "#T_4853a_row3_col6, #T_4853a_row6_col3 {\n",
       "  background-color: #b7e075;\n",
       "  color: #000000;\n",
       "}\n",
       "#T_4853a_row3_col7, #T_4853a_row7_col3 {\n",
       "  background-color: #b1de71;\n",
       "  color: #000000;\n",
       "}\n",
       "#T_4853a_row4_col5, #T_4853a_row5_col4 {\n",
       "  background-color: #c7e77f;\n",
       "  color: #000000;\n",
       "}\n",
       "#T_4853a_row4_col6, #T_4853a_row6_col4 {\n",
       "  background-color: #219c52;\n",
       "  color: #f1f1f1;\n",
       "}\n",
       "#T_4853a_row4_col7, #T_4853a_row7_col4 {\n",
       "  background-color: #128a49;\n",
       "  color: #f1f1f1;\n",
       "}\n",
       "#T_4853a_row5_col6, #T_4853a_row6_col5 {\n",
       "  background-color: #96d268;\n",
       "  color: #000000;\n",
       "}\n",
       "#T_4853a_row5_col7, #T_4853a_row7_col5 {\n",
       "  background-color: #abdb6d;\n",
       "  color: #000000;\n",
       "}\n",
       "#T_4853a_row6_col7, #T_4853a_row7_col6 {\n",
       "  background-color: #148e4b;\n",
       "  color: #f1f1f1;\n",
       "}\n",
       "</style>\n",
       "<table id=\"T_4853a\">\n",
       "  <thead>\n",
       "    <tr>\n",
       "      <th class=\"blank level0\" >&nbsp;</th>\n",
       "      <th id=\"T_4853a_level0_col0\" class=\"col_heading level0 col0\" >Commodity_-_USD_Unhedged</th>\n",
       "      <th id=\"T_4853a_level0_col1\" class=\"col_heading level0 col1\" >Global_Property_USD_Unhedged</th>\n",
       "      <th id=\"T_4853a_level0_col2\" class=\"col_heading level0 col2\" >Hedge_Fund_DJ_-_USD_Unhedged</th>\n",
       "      <th id=\"T_4853a_level0_col3\" class=\"col_heading level0 col3\" >Infrastructure_Debt_-_USD_Unhedged</th>\n",
       "      <th id=\"T_4853a_level0_col4\" class=\"col_heading level0 col4\" >Infrastructure_Equity_USD_Unhedged</th>\n",
       "      <th id=\"T_4853a_level0_col5\" class=\"col_heading level0 col5\" >Nature_Capital_-_USD_Hedged</th>\n",
       "      <th id=\"T_4853a_level0_col6\" class=\"col_heading level0 col6\" >Private_Equity_USD_Unhedged</th>\n",
       "      <th id=\"T_4853a_level0_col7\" class=\"col_heading level0 col7\" >UK_Property_Direct_-_USD_Unhedged</th>\n",
       "    </tr>\n",
       "  </thead>\n",
       "  <tbody>\n",
       "    <tr>\n",
       "      <th id=\"T_4853a_level0_row0\" class=\"row_heading level0 row0\" >Commodity_-_USD_Unhedged</th>\n",
       "      <td id=\"T_4853a_row0_col0\" class=\"data row0 col0\" >1.00</td>\n",
       "      <td id=\"T_4853a_row0_col1\" class=\"data row0 col1\" >0.66</td>\n",
       "      <td id=\"T_4853a_row0_col2\" class=\"data row0 col2\" >0.81</td>\n",
       "      <td id=\"T_4853a_row0_col3\" class=\"data row0 col3\" >-0.22</td>\n",
       "      <td id=\"T_4853a_row0_col4\" class=\"data row0 col4\" >0.43</td>\n",
       "      <td id=\"T_4853a_row0_col5\" class=\"data row0 col5\" >0.77</td>\n",
       "      <td id=\"T_4853a_row0_col6\" class=\"data row0 col6\" >0.59</td>\n",
       "      <td id=\"T_4853a_row0_col7\" class=\"data row0 col7\" >0.61</td>\n",
       "    </tr>\n",
       "    <tr>\n",
       "      <th id=\"T_4853a_level0_row1\" class=\"row_heading level0 row1\" >Global_Property_USD_Unhedged</th>\n",
       "      <td id=\"T_4853a_row1_col0\" class=\"data row1 col0\" >0.66</td>\n",
       "      <td id=\"T_4853a_row1_col1\" class=\"data row1 col1\" >1.00</td>\n",
       "      <td id=\"T_4853a_row1_col2\" class=\"data row1 col2\" >0.83</td>\n",
       "      <td id=\"T_4853a_row1_col3\" class=\"data row1 col3\" >0.32</td>\n",
       "      <td id=\"T_4853a_row1_col4\" class=\"data row1 col4\" >0.80</td>\n",
       "      <td id=\"T_4853a_row1_col5\" class=\"data row1 col5\" >0.53</td>\n",
       "      <td id=\"T_4853a_row1_col6\" class=\"data row1 col6\" >0.92</td>\n",
       "      <td id=\"T_4853a_row1_col7\" class=\"data row1 col7\" >0.88</td>\n",
       "    </tr>\n",
       "    <tr>\n",
       "      <th id=\"T_4853a_level0_row2\" class=\"row_heading level0 row2\" >Hedge_Fund_DJ_-_USD_Unhedged</th>\n",
       "      <td id=\"T_4853a_row2_col0\" class=\"data row2 col0\" >0.81</td>\n",
       "      <td id=\"T_4853a_row2_col1\" class=\"data row2 col1\" >0.83</td>\n",
       "      <td id=\"T_4853a_row2_col2\" class=\"data row2 col2\" >1.00</td>\n",
       "      <td id=\"T_4853a_row2_col3\" class=\"data row2 col3\" >0.01</td>\n",
       "      <td id=\"T_4853a_row2_col4\" class=\"data row2 col4\" >0.62</td>\n",
       "      <td id=\"T_4853a_row2_col5\" class=\"data row2 col5\" >0.62</td>\n",
       "      <td id=\"T_4853a_row2_col6\" class=\"data row2 col6\" >0.88</td>\n",
       "      <td id=\"T_4853a_row2_col7\" class=\"data row2 col7\" >0.73</td>\n",
       "    </tr>\n",
       "    <tr>\n",
       "      <th id=\"T_4853a_level0_row3\" class=\"row_heading level0 row3\" >Infrastructure_Debt_-_USD_Unhedged</th>\n",
       "      <td id=\"T_4853a_row3_col0\" class=\"data row3 col0\" >-0.22</td>\n",
       "      <td id=\"T_4853a_row3_col1\" class=\"data row3 col1\" >0.32</td>\n",
       "      <td id=\"T_4853a_row3_col2\" class=\"data row3 col2\" >0.01</td>\n",
       "      <td id=\"T_4853a_row3_col3\" class=\"data row3 col3\" >1.00</td>\n",
       "      <td id=\"T_4853a_row3_col4\" class=\"data row3 col4\" >0.43</td>\n",
       "      <td id=\"T_4853a_row3_col5\" class=\"data row3 col5\" >-0.43</td>\n",
       "      <td id=\"T_4853a_row3_col6\" class=\"data row3 col6\" >0.33</td>\n",
       "      <td id=\"T_4853a_row3_col7\" class=\"data row3 col7\" >0.35</td>\n",
       "    </tr>\n",
       "    <tr>\n",
       "      <th id=\"T_4853a_level0_row4\" class=\"row_heading level0 row4\" >Infrastructure_Equity_USD_Unhedged</th>\n",
       "      <td id=\"T_4853a_row4_col0\" class=\"data row4 col0\" >0.43</td>\n",
       "      <td id=\"T_4853a_row4_col1\" class=\"data row4 col1\" >0.80</td>\n",
       "      <td id=\"T_4853a_row4_col2\" class=\"data row4 col2\" >0.62</td>\n",
       "      <td id=\"T_4853a_row4_col3\" class=\"data row4 col3\" >0.43</td>\n",
       "      <td id=\"T_4853a_row4_col4\" class=\"data row4 col4\" >1.00</td>\n",
       "      <td id=\"T_4853a_row4_col5\" class=\"data row4 col5\" >0.27</td>\n",
       "      <td id=\"T_4853a_row4_col6\" class=\"data row4 col6\" >0.77</td>\n",
       "      <td id=\"T_4853a_row4_col7\" class=\"data row4 col7\" >0.86</td>\n",
       "    </tr>\n",
       "    <tr>\n",
       "      <th id=\"T_4853a_level0_row5\" class=\"row_heading level0 row5\" >Nature_Capital_-_USD_Hedged</th>\n",
       "      <td id=\"T_4853a_row5_col0\" class=\"data row5 col0\" >0.77</td>\n",
       "      <td id=\"T_4853a_row5_col1\" class=\"data row5 col1\" >0.53</td>\n",
       "      <td id=\"T_4853a_row5_col2\" class=\"data row5 col2\" >0.62</td>\n",
       "      <td id=\"T_4853a_row5_col3\" class=\"data row5 col3\" >-0.43</td>\n",
       "      <td id=\"T_4853a_row5_col4\" class=\"data row5 col4\" >0.27</td>\n",
       "      <td id=\"T_4853a_row5_col5\" class=\"data row5 col5\" >1.00</td>\n",
       "      <td id=\"T_4853a_row5_col6\" class=\"data row5 col6\" >0.45</td>\n",
       "      <td id=\"T_4853a_row5_col7\" class=\"data row5 col7\" >0.38</td>\n",
       "    </tr>\n",
       "    <tr>\n",
       "      <th id=\"T_4853a_level0_row6\" class=\"row_heading level0 row6\" >Private_Equity_USD_Unhedged</th>\n",
       "      <td id=\"T_4853a_row6_col0\" class=\"data row6 col0\" >0.59</td>\n",
       "      <td id=\"T_4853a_row6_col1\" class=\"data row6 col1\" >0.92</td>\n",
       "      <td id=\"T_4853a_row6_col2\" class=\"data row6 col2\" >0.88</td>\n",
       "      <td id=\"T_4853a_row6_col3\" class=\"data row6 col3\" >0.33</td>\n",
       "      <td id=\"T_4853a_row6_col4\" class=\"data row6 col4\" >0.77</td>\n",
       "      <td id=\"T_4853a_row6_col5\" class=\"data row6 col5\" >0.45</td>\n",
       "      <td id=\"T_4853a_row6_col6\" class=\"data row6 col6\" >1.00</td>\n",
       "      <td id=\"T_4853a_row6_col7\" class=\"data row6 col7\" >0.84</td>\n",
       "    </tr>\n",
       "    <tr>\n",
       "      <th id=\"T_4853a_level0_row7\" class=\"row_heading level0 row7\" >UK_Property_Direct_-_USD_Unhedged</th>\n",
       "      <td id=\"T_4853a_row7_col0\" class=\"data row7 col0\" >0.61</td>\n",
       "      <td id=\"T_4853a_row7_col1\" class=\"data row7 col1\" >0.88</td>\n",
       "      <td id=\"T_4853a_row7_col2\" class=\"data row7 col2\" >0.73</td>\n",
       "      <td id=\"T_4853a_row7_col3\" class=\"data row7 col3\" >0.35</td>\n",
       "      <td id=\"T_4853a_row7_col4\" class=\"data row7 col4\" >0.86</td>\n",
       "      <td id=\"T_4853a_row7_col5\" class=\"data row7 col5\" >0.38</td>\n",
       "      <td id=\"T_4853a_row7_col6\" class=\"data row7 col6\" >0.84</td>\n",
       "      <td id=\"T_4853a_row7_col7\" class=\"data row7 col7\" >1.00</td>\n",
       "    </tr>\n",
       "  </tbody>\n",
       "</table>\n"
      ],
      "text/plain": [
       "<pandas.io.formats.style.Styler at 0x78e634647860>"
      ]
     },
     "execution_count": 445,
     "metadata": {},
     "output_type": "execute_result"
    }
   ],
   "source": [
    "(linear_returns.loc['2017-12-31':'2022-12-31'].corr()\n",
    ".style.format(precision = 2)\n",
    ".background_gradient(cmap = 'RdYlGn', vmin = -1, vmax = 1, axis = None))"
   ]
  },
  {
   "cell_type": "markdown",
   "metadata": {},
   "source": [
    "## Volatility"
   ]
  },
  {
   "cell_type": "code",
   "execution_count": 446,
   "metadata": {},
   "outputs": [],
   "source": [
    "def volatility_from_month(x):\n",
    "    return np.sqrt(12)*x.std()"
   ]
  },
  {
   "cell_type": "code",
   "execution_count": 447,
   "metadata": {},
   "outputs": [
    {
     "data": {
      "text/plain": [
       "Commodity_-_USD_Unhedged              0.110196\n",
       "Global_Property_USD_Unhedged          0.124947\n",
       "Hedge_Fund_DJ_-_USD_Unhedged          0.038985\n",
       "Infrastructure_Debt_-_USD_Unhedged    0.034297\n",
       "Infrastructure_Equity_USD_Unhedged    0.096100\n",
       "Nature_Capital_-_USD_Hedged           0.081746\n",
       "Private_Equity_USD_Unhedged           0.179881\n",
       "UK_Property_Direct_-_USD_Unhedged     0.132688\n",
       "dtype: float64"
      ]
     },
     "execution_count": 447,
     "metadata": {},
     "output_type": "execute_result"
    }
   ],
   "source": [
    "linear_returns.loc['2017-12-31':'2022-12-31'].agg(volatility_from_month)"
   ]
  },
  {
   "cell_type": "markdown",
   "metadata": {},
   "source": [
    "#  **Modèle Naïfs : modèle quadratique**"
   ]
  },
  {
   "cell_type": "code",
   "execution_count": 448,
   "metadata": {},
   "outputs": [
    {
     "name": "stderr",
     "output_type": "stream",
     "text": [
      "/tmp/ipykernel_175744/1888440700.py:2: FutureWarning: The default fill_method='pad' in DataFrame.pct_change is deprecated and will be removed in a future version. Either fill in any non-leading NA values prior to calling pct_change or specify 'fill_method=None' to not fill NA values.\n",
      "  quadratic_return = price.resample('ME').interpolate(method = 'quadratic').pct_change()\n"
     ]
    }
   ],
   "source": [
    "price = alternative_data.loc['31-03-2007':].iloc[:,:8]\n",
    "quadratic_return = price.resample('ME').interpolate(method = 'quadratic').pct_change()"
   ]
  },
  {
   "cell_type": "code",
   "execution_count": 467,
   "metadata": {},
   "outputs": [
    {
     "data": {
      "text/plain": [
       "Text(0.5, 1.0, 'Quadratic Interpolation')"
      ]
     },
     "execution_count": 467,
     "metadata": {},
     "output_type": "execute_result"
    },
    {
     "data": {
      "image/png": "[encoded data removed]",
      "text/plain": [
       "<Figure size 640x480 with 1 Axes>"
      ]
     },
     "metadata": {},
     "output_type": "display_data"
    }
   ],
   "source": [
    "fig, axis = plt.subplots()\n",
    "\n",
    "(quadratic_return.Global_Property_USD_Unhedged\n",
    " .agg(cumulated_returns)\n",
    " .loc['31-03-2017' : '31-03-2019']\n",
    ".plot(ax = axis, style = 'o',grid = True)\n",
    ".legend())\n",
    "\n",
    "\n",
    "(price.Global_Property_USD_Unhedged\n",
    " .resample('ME')\n",
    " .interpolate('linear')\n",
    " .pct_change()\n",
    " .agg(cumulated_returns)\n",
    " .loc['31-03-2017': '31-03-2019']\n",
    " .iloc[::3]\n",
    " .plot(ax = axis, style = 'o--', grid = True)\n",
    " .legend())\n",
    "\n",
    "axis.set_title('Quadratic Interpolation')"
   ]
  },
  {
   "cell_type": "markdown",
   "metadata": {},
   "source": [
    "## Correlation"
   ]
  },
  {
   "cell_type": "code",
   "execution_count": 450,
   "metadata": {},
   "outputs": [
    {
     "data": {
      "text/html": [
       "<style type=\"text/css\">\n",
       "#T_5f82a_row0_col0, #T_5f82a_row1_col1, #T_5f82a_row2_col2, #T_5f82a_row3_col3, #T_5f82a_row4_col4, #T_5f82a_row5_col5, #T_5f82a_row6_col6, #T_5f82a_row7_col7 {\n",
       "  background-color: #006837;\n",
       "  color: #f1f1f1;\n",
       "}\n",
       "#T_5f82a_row0_col1, #T_5f82a_row1_col0 {\n",
       "  background-color: #4eb15d;\n",
       "  color: #f1f1f1;\n",
       "}\n",
       "#T_5f82a_row0_col2, #T_5f82a_row1_col4, #T_5f82a_row2_col0, #T_5f82a_row4_col1 {\n",
       "  background-color: #18954f;\n",
       "  color: #f1f1f1;\n",
       "}\n",
       "#T_5f82a_row0_col3, #T_5f82a_row3_col0 {\n",
       "  background-color: #fedc88;\n",
       "  color: #000000;\n",
       "}\n",
       "#T_5f82a_row0_col4, #T_5f82a_row4_col0 {\n",
       "  background-color: #98d368;\n",
       "  color: #000000;\n",
       "}\n",
       "#T_5f82a_row0_col5, #T_5f82a_row5_col0 {\n",
       "  background-color: #249d53;\n",
       "  color: #f1f1f1;\n",
       "}\n",
       "#T_5f82a_row0_col6, #T_5f82a_row6_col0 {\n",
       "  background-color: #66bd63;\n",
       "  color: #f1f1f1;\n",
       "}\n",
       "#T_5f82a_row0_col7, #T_5f82a_row7_col0 {\n",
       "  background-color: #5db961;\n",
       "  color: #f1f1f1;\n",
       "}\n",
       "#T_5f82a_row1_col2, #T_5f82a_row2_col1 {\n",
       "  background-color: #15904c;\n",
       "  color: #f1f1f1;\n",
       "}\n",
       "#T_5f82a_row1_col3, #T_5f82a_row3_col1, #T_5f82a_row4_col5, #T_5f82a_row5_col4 {\n",
       "  background-color: #bfe47a;\n",
       "  color: #000000;\n",
       "}\n",
       "#T_5f82a_row1_col5, #T_5f82a_row5_col1 {\n",
       "  background-color: #75c465;\n",
       "  color: #000000;\n",
       "}\n",
       "#T_5f82a_row1_col6, #T_5f82a_row6_col1 {\n",
       "  background-color: #0a7b41;\n",
       "  color: #f1f1f1;\n",
       "}\n",
       "#T_5f82a_row1_col7, #T_5f82a_row2_col6, #T_5f82a_row6_col2, #T_5f82a_row7_col1 {\n",
       "  background-color: #0e8245;\n",
       "  color: #f1f1f1;\n",
       "}\n",
       "#T_5f82a_row2_col3, #T_5f82a_row3_col2 {\n",
       "  background-color: #fffebe;\n",
       "  color: #000000;\n",
       "}\n",
       "#T_5f82a_row2_col4, #T_5f82a_row4_col2 {\n",
       "  background-color: #57b65f;\n",
       "  color: #f1f1f1;\n",
       "}\n",
       "#T_5f82a_row2_col5, #T_5f82a_row5_col2 {\n",
       "  background-color: #54b45f;\n",
       "  color: #f1f1f1;\n",
       "}\n",
       "#T_5f82a_row2_col7, #T_5f82a_row7_col2 {\n",
       "  background-color: #30a356;\n",
       "  color: #f1f1f1;\n",
       "}\n",
       "#T_5f82a_row3_col4, #T_5f82a_row4_col3 {\n",
       "  background-color: #a2d76a;\n",
       "  color: #000000;\n",
       "}\n",
       "#T_5f82a_row3_col5, #T_5f82a_row5_col3 {\n",
       "  background-color: #fca85e;\n",
       "  color: #000000;\n",
       "}\n",
       "#T_5f82a_row3_col6, #T_5f82a_row6_col3 {\n",
       "  background-color: #bde379;\n",
       "  color: #000000;\n",
       "}\n",
       "#T_5f82a_row3_col7, #T_5f82a_row7_col3 {\n",
       "  background-color: #b7e075;\n",
       "  color: #000000;\n",
       "}\n",
       "#T_5f82a_row4_col6, #T_5f82a_row6_col4 {\n",
       "  background-color: #1e9a51;\n",
       "  color: #f1f1f1;\n",
       "}\n",
       "#T_5f82a_row4_col7, #T_5f82a_row7_col4 {\n",
       "  background-color: #118848;\n",
       "  color: #f1f1f1;\n",
       "}\n",
       "#T_5f82a_row5_col6, #T_5f82a_row6_col5 {\n",
       "  background-color: #8ecf67;\n",
       "  color: #000000;\n",
       "}\n",
       "#T_5f82a_row5_col7, #T_5f82a_row7_col5 {\n",
       "  background-color: #a5d86a;\n",
       "  color: #000000;\n",
       "}\n",
       "#T_5f82a_row6_col7, #T_5f82a_row7_col6 {\n",
       "  background-color: #148e4b;\n",
       "  color: #f1f1f1;\n",
       "}\n",
       "</style>\n",
       "<table id=\"T_5f82a\">\n",
       "  <thead>\n",
       "    <tr>\n",
       "      <th class=\"blank level0\" >&nbsp;</th>\n",
       "      <th id=\"T_5f82a_level0_col0\" class=\"col_heading level0 col0\" >Commodity_-_USD_Unhedged</th>\n",
       "      <th id=\"T_5f82a_level0_col1\" class=\"col_heading level0 col1\" >Global_Property_USD_Unhedged</th>\n",
       "      <th id=\"T_5f82a_level0_col2\" class=\"col_heading level0 col2\" >Hedge_Fund_DJ_-_USD_Unhedged</th>\n",
       "      <th id=\"T_5f82a_level0_col3\" class=\"col_heading level0 col3\" >Infrastructure_Debt_-_USD_Unhedged</th>\n",
       "      <th id=\"T_5f82a_level0_col4\" class=\"col_heading level0 col4\" >Infrastructure_Equity_USD_Unhedged</th>\n",
       "      <th id=\"T_5f82a_level0_col5\" class=\"col_heading level0 col5\" >Nature_Capital_-_USD_Hedged</th>\n",
       "      <th id=\"T_5f82a_level0_col6\" class=\"col_heading level0 col6\" >Private_Equity_USD_Unhedged</th>\n",
       "      <th id=\"T_5f82a_level0_col7\" class=\"col_heading level0 col7\" >UK_Property_Direct_-_USD_Unhedged</th>\n",
       "    </tr>\n",
       "  </thead>\n",
       "  <tbody>\n",
       "    <tr>\n",
       "      <th id=\"T_5f82a_level0_row0\" class=\"row_heading level0 row0\" >Commodity_-_USD_Unhedged</th>\n",
       "      <td id=\"T_5f82a_row0_col0\" class=\"data row0 col0\" >1.00</td>\n",
       "      <td id=\"T_5f82a_row0_col1\" class=\"data row0 col1\" >0.66</td>\n",
       "      <td id=\"T_5f82a_row0_col2\" class=\"data row0 col2\" >0.81</td>\n",
       "      <td id=\"T_5f82a_row0_col3\" class=\"data row0 col3\" >-0.21</td>\n",
       "      <td id=\"T_5f82a_row0_col4\" class=\"data row0 col4\" >0.44</td>\n",
       "      <td id=\"T_5f82a_row0_col5\" class=\"data row0 col5\" >0.77</td>\n",
       "      <td id=\"T_5f82a_row0_col6\" class=\"data row0 col6\" >0.60</td>\n",
       "      <td id=\"T_5f82a_row0_col7\" class=\"data row0 col7\" >0.62</td>\n",
       "    </tr>\n",
       "    <tr>\n",
       "      <th id=\"T_5f82a_level0_row1\" class=\"row_heading level0 row1\" >Global_Property_USD_Unhedged</th>\n",
       "      <td id=\"T_5f82a_row1_col0\" class=\"data row1 col0\" >0.66</td>\n",
       "      <td id=\"T_5f82a_row1_col1\" class=\"data row1 col1\" >1.00</td>\n",
       "      <td id=\"T_5f82a_row1_col2\" class=\"data row1 col2\" >0.84</td>\n",
       "      <td id=\"T_5f82a_row1_col3\" class=\"data row1 col3\" >0.30</td>\n",
       "      <td id=\"T_5f82a_row1_col4\" class=\"data row1 col4\" >0.81</td>\n",
       "      <td id=\"T_5f82a_row1_col5\" class=\"data row1 col5\" >0.55</td>\n",
       "      <td id=\"T_5f82a_row1_col6\" class=\"data row1 col6\" >0.92</td>\n",
       "      <td id=\"T_5f82a_row1_col7\" class=\"data row1 col7\" >0.88</td>\n",
       "    </tr>\n",
       "    <tr>\n",
       "      <th id=\"T_5f82a_level0_row2\" class=\"row_heading level0 row2\" >Hedge_Fund_DJ_-_USD_Unhedged</th>\n",
       "      <td id=\"T_5f82a_row2_col0\" class=\"data row2 col0\" >0.81</td>\n",
       "      <td id=\"T_5f82a_row2_col1\" class=\"data row2 col1\" >0.84</td>\n",
       "      <td id=\"T_5f82a_row2_col2\" class=\"data row2 col2\" >1.00</td>\n",
       "      <td id=\"T_5f82a_row2_col3\" class=\"data row2 col3\" >-0.00</td>\n",
       "      <td id=\"T_5f82a_row2_col4\" class=\"data row2 col4\" >0.63</td>\n",
       "      <td id=\"T_5f82a_row2_col5\" class=\"data row2 col5\" >0.64</td>\n",
       "      <td id=\"T_5f82a_row2_col6\" class=\"data row2 col6\" >0.88</td>\n",
       "      <td id=\"T_5f82a_row2_col7\" class=\"data row2 col7\" >0.74</td>\n",
       "    </tr>\n",
       "    <tr>\n",
       "      <th id=\"T_5f82a_level0_row3\" class=\"row_heading level0 row3\" >Infrastructure_Debt_-_USD_Unhedged</th>\n",
       "      <td id=\"T_5f82a_row3_col0\" class=\"data row3 col0\" >-0.21</td>\n",
       "      <td id=\"T_5f82a_row3_col1\" class=\"data row3 col1\" >0.30</td>\n",
       "      <td id=\"T_5f82a_row3_col2\" class=\"data row3 col2\" >-0.00</td>\n",
       "      <td id=\"T_5f82a_row3_col3\" class=\"data row3 col3\" >1.00</td>\n",
       "      <td id=\"T_5f82a_row3_col4\" class=\"data row3 col4\" >0.41</td>\n",
       "      <td id=\"T_5f82a_row3_col5\" class=\"data row3 col5\" >-0.42</td>\n",
       "      <td id=\"T_5f82a_row3_col6\" class=\"data row3 col6\" >0.31</td>\n",
       "      <td id=\"T_5f82a_row3_col7\" class=\"data row3 col7\" >0.33</td>\n",
       "    </tr>\n",
       "    <tr>\n",
       "      <th id=\"T_5f82a_level0_row4\" class=\"row_heading level0 row4\" >Infrastructure_Equity_USD_Unhedged</th>\n",
       "      <td id=\"T_5f82a_row4_col0\" class=\"data row4 col0\" >0.44</td>\n",
       "      <td id=\"T_5f82a_row4_col1\" class=\"data row4 col1\" >0.81</td>\n",
       "      <td id=\"T_5f82a_row4_col2\" class=\"data row4 col2\" >0.63</td>\n",
       "      <td id=\"T_5f82a_row4_col3\" class=\"data row4 col3\" >0.41</td>\n",
       "      <td id=\"T_5f82a_row4_col4\" class=\"data row4 col4\" >1.00</td>\n",
       "      <td id=\"T_5f82a_row4_col5\" class=\"data row4 col5\" >0.30</td>\n",
       "      <td id=\"T_5f82a_row4_col6\" class=\"data row4 col6\" >0.78</td>\n",
       "      <td id=\"T_5f82a_row4_col7\" class=\"data row4 col7\" >0.86</td>\n",
       "    </tr>\n",
       "    <tr>\n",
       "      <th id=\"T_5f82a_level0_row5\" class=\"row_heading level0 row5\" >Nature_Capital_-_USD_Hedged</th>\n",
       "      <td id=\"T_5f82a_row5_col0\" class=\"data row5 col0\" >0.77</td>\n",
       "      <td id=\"T_5f82a_row5_col1\" class=\"data row5 col1\" >0.55</td>\n",
       "      <td id=\"T_5f82a_row5_col2\" class=\"data row5 col2\" >0.64</td>\n",
       "      <td id=\"T_5f82a_row5_col3\" class=\"data row5 col3\" >-0.42</td>\n",
       "      <td id=\"T_5f82a_row5_col4\" class=\"data row5 col4\" >0.30</td>\n",
       "      <td id=\"T_5f82a_row5_col5\" class=\"data row5 col5\" >1.00</td>\n",
       "      <td id=\"T_5f82a_row5_col6\" class=\"data row5 col6\" >0.47</td>\n",
       "      <td id=\"T_5f82a_row5_col7\" class=\"data row5 col7\" >0.40</td>\n",
       "    </tr>\n",
       "    <tr>\n",
       "      <th id=\"T_5f82a_level0_row6\" class=\"row_heading level0 row6\" >Private_Equity_USD_Unhedged</th>\n",
       "      <td id=\"T_5f82a_row6_col0\" class=\"data row6 col0\" >0.60</td>\n",
       "      <td id=\"T_5f82a_row6_col1\" class=\"data row6 col1\" >0.92</td>\n",
       "      <td id=\"T_5f82a_row6_col2\" class=\"data row6 col2\" >0.88</td>\n",
       "      <td id=\"T_5f82a_row6_col3\" class=\"data row6 col3\" >0.31</td>\n",
       "      <td id=\"T_5f82a_row6_col4\" class=\"data row6 col4\" >0.78</td>\n",
       "      <td id=\"T_5f82a_row6_col5\" class=\"data row6 col5\" >0.47</td>\n",
       "      <td id=\"T_5f82a_row6_col6\" class=\"data row6 col6\" >1.00</td>\n",
       "      <td id=\"T_5f82a_row6_col7\" class=\"data row6 col7\" >0.84</td>\n",
       "    </tr>\n",
       "    <tr>\n",
       "      <th id=\"T_5f82a_level0_row7\" class=\"row_heading level0 row7\" >UK_Property_Direct_-_USD_Unhedged</th>\n",
       "      <td id=\"T_5f82a_row7_col0\" class=\"data row7 col0\" >0.62</td>\n",
       "      <td id=\"T_5f82a_row7_col1\" class=\"data row7 col1\" >0.88</td>\n",
       "      <td id=\"T_5f82a_row7_col2\" class=\"data row7 col2\" >0.74</td>\n",
       "      <td id=\"T_5f82a_row7_col3\" class=\"data row7 col3\" >0.33</td>\n",
       "      <td id=\"T_5f82a_row7_col4\" class=\"data row7 col4\" >0.86</td>\n",
       "      <td id=\"T_5f82a_row7_col5\" class=\"data row7 col5\" >0.40</td>\n",
       "      <td id=\"T_5f82a_row7_col6\" class=\"data row7 col6\" >0.84</td>\n",
       "      <td id=\"T_5f82a_row7_col7\" class=\"data row7 col7\" >1.00</td>\n",
       "    </tr>\n",
       "  </tbody>\n",
       "</table>\n"
      ],
      "text/plain": [
       "<pandas.io.formats.style.Styler at 0x78e63311bfb0>"
      ]
     },
     "execution_count": 450,
     "metadata": {},
     "output_type": "execute_result"
    }
   ],
   "source": [
    "(quadratic_return.loc['2017-12-31':'2022-12-31'].corr()\n",
    ".style.format(precision = 2)\n",
    ".background_gradient(cmap = 'RdYlGn', vmin = -1, vmax = 1, axis = None))"
   ]
  },
  {
   "cell_type": "markdown",
   "metadata": {},
   "source": [
    "## Volatility"
   ]
  },
  {
   "cell_type": "code",
   "execution_count": 451,
   "metadata": {},
   "outputs": [
    {
     "data": {
      "text/plain": [
       "Commodity_-_USD_Unhedged              0.117735\n",
       "Global_Property_USD_Unhedged          0.132941\n",
       "Hedge_Fund_DJ_-_USD_Unhedged          0.041696\n",
       "Infrastructure_Debt_-_USD_Unhedged    0.035679\n",
       "Infrastructure_Equity_USD_Unhedged    0.103090\n",
       "Nature_Capital_-_USD_Hedged           0.085163\n",
       "Private_Equity_USD_Unhedged           0.191424\n",
       "UK_Property_Direct_-_USD_Unhedged     0.141710\n",
       "dtype: float64"
      ]
     },
     "execution_count": 451,
     "metadata": {},
     "output_type": "execute_result"
    }
   ],
   "source": [
    "quadratic_return.loc['2017-12-31':'2022-12-31'].agg(volatility_from_month)"
   ]
  }
 ],
 "metadata": {
  "kernelspec": {
   "display_name": "base",
   "language": "python",
   "name": "python3"
  },
  "language_info": {
   "codemirror_mode": {
    "name": "ipython",
    "version": 3
   },
   "file_extension": ".py",
   "mimetype": "text/x-python",
   "name": "python",
   "nbconvert_exporter": "python",
   "pygments_lexer": "ipython3",
   "version": "3.12.2"
  }
 },
 "nbformat": 4,
 "nbformat_minor": 2
}
